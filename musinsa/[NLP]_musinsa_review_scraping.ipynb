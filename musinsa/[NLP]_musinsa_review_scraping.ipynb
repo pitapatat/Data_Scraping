{
  "cells": [
    {
      "cell_type": "markdown",
      "metadata": {
        "id": "l64WxKeIHqIn"
      },
      "source": [
        "# 무신사 리뷰 스크래핑 및 분석\n",
        " "
      ]
    },
    {
      "cell_type": "markdown",
      "metadata": {
        "id": "f-uHW7dggm8W"
      },
      "source": [
        "1. 무신사스토어 > 상의 > 셔츠/블라우스 > (후기순 정렬) > 상품 리뷰(스타일 후기) 스크래핑\n",
        "2. 브랜드 - 상품명 - 리뷰 추출  \n",
        "3. 각 상품에 따른 리뷰 키워드 추출, 브랜드별 키워드 추출\n",
        "    - 추출 방법(3): TF-IDF(빈도분석), LSA/LDA, KeyBERT\n",
        "    - 결과 비교 "
      ]
    },
    {
      "cell_type": "code",
      "execution_count": null,
      "metadata": {
        "id": "k___35OZn6-4"
      },
      "outputs": [],
      "source": [
        "## selenium 설치 \n",
        "!pip install selenium\n",
        "!apt-get update\n",
        "!apt install chromium-chromedriver"
      ]
    },
    {
      "cell_type": "code",
      "execution_count": null,
      "metadata": {
        "id": "J_5yDFF0oLIi",
        "colab": {
          "base_uri": "https://localhost:8080/"
        },
        "outputId": "16d5d58c-d49e-409e-a6e9-3076b2d544a7"
      },
      "outputs": [
        {
          "output_type": "stream",
          "name": "stderr",
          "text": [
            "/usr/local/lib/python3.7/dist-packages/requests/__init__.py:91: RequestsDependencyWarning: urllib3 (1.26.9) or chardet (3.0.4) doesn't match a supported version!\n",
            "  RequestsDependencyWarning)\n"
          ]
        }
      ],
      "source": [
        "from selenium import webdriver\n",
        "from selenium.webdriver.common.keys import Keys\n",
        "from selenium.webdriver.common.by import By\n",
        "\n",
        "import time\n",
        "from tqdm import tqdm\n",
        "\n",
        "import requests\n",
        "from bs4 import BeautifulSoup\n",
        "\n",
        "import pandas as pd"
      ]
    },
    {
      "cell_type": "code",
      "execution_count": null,
      "metadata": {
        "id": "EYPUPUOaoOTB"
      },
      "outputs": [],
      "source": [
        "#셀레니움으로 크롬 열기\n",
        "chrome_options = webdriver.ChromeOptions()\n",
        "chrome_options.add_argument('--headless')   ## 브라우저가 눈에 안보여도 조작 가능하게\n",
        "chrome_options.add_argument('--no-sandbox')\n",
        "chrome_options.add_argument('--disable-dev-shm-usage')\n",
        "driver = webdriver.Chrome('chromedriver', options=chrome_options)"
      ]
    },
    {
      "cell_type": "markdown",
      "metadata": {
        "id": "-vwaXuUcBM-J"
      },
      "source": [
        "#### 연습 "
      ]
    },
    {
      "cell_type": "code",
      "execution_count": null,
      "metadata": {
        "id": "IwDaEgFcpqBc"
      },
      "outputs": [],
      "source": [
        "cat_num =  '001002'    #셔츠/블라우스\n",
        "page_num = 1\n",
        "url = f'https://www.musinsa.com/category/{cat_num}?d_cat_cd={cat_num}&brand=&rate=&page_kind=search&list_kind=small&sort=emt_high&sub_sort=&page={page_num}&display_cnt=90&sale_goods=&group_sale=&kids=N&ex_soldout=&color=&price1=&price2=&exclusive_yn=&shoeSizeOption=&tags=&campaign_id=&timesale_yn=&q=&includeKeywords=&measure='\n",
        "\n",
        "response = requests.get(url)\n",
        "soup = BeautifulSoup(response.text, 'html.parser')"
      ]
    },
    {
      "cell_type": "code",
      "execution_count": null,
      "metadata": {
        "colab": {
          "base_uri": "https://localhost:8080/",
          "height": 36
        },
        "id": "4PGWnpP9iRYy",
        "outputId": "92b25c8f-5b86-4f33-b819-e21331385604"
      },
      "outputs": [
        {
          "output_type": "execute_result",
          "data": {
            "text/plain": [
              "'246'"
            ],
            "application/vnd.google.colaboratory.intrinsic+json": {
              "type": "string"
            }
          },
          "metadata": {},
          "execution_count": 5
        }
      ],
      "source": [
        "boxes = soup.select('div.list-box.box')[0].select('li.li_box')\n",
        "len(boxes)\n",
        "#for box in boxes:\n",
        "#    box.select('div.li_inner')\n",
        "brand = boxes[3].select('div.li_inner')[0].select('p.item_title')[0].text\n",
        "prod_name = boxes[3].select('div.li_inner')[0].find('a')['title']\n",
        "prices = boxes[3].select('div.li_inner')[0].select('p.price')[0].text\n",
        "url = boxes[3].select('div.li_inner')[0].find('a')['href']\n",
        "\n",
        "soup.select('div.thumbType_box.box')[0].select('span.totalPagingNum')[0].text"
      ]
    },
    {
      "cell_type": "code",
      "execution_count": null,
      "metadata": {
        "colab": {
          "base_uri": "https://localhost:8080/",
          "height": 36
        },
        "id": "sxgGtySm4Nzz",
        "outputId": "a78e5184-5462-40db-9b4c-ab32ca2d6e35"
      },
      "outputs": [
        {
          "output_type": "execute_result",
          "data": {
            "text/plain": [
              "'652'"
            ],
            "application/vnd.google.colaboratory.intrinsic+json": {
              "type": "string"
            }
          },
          "metadata": {},
          "execution_count": 6
        }
      ],
      "source": [
        "url = 'https://store.musinsa.com/app/goods/282220'\n",
        "# webdriver 실행\n",
        "driver = webdriver.Chrome('chromedriver', options=chrome_options)\n",
        "driver.get(url)\n",
        "driver.find_element(By.CLASS_NAME, \"pagingNumber-box.box\").find_element(By.CLASS_NAME, 'totalPagingNum').text.split('/')[1].strip()"
      ]
    },
    {
      "cell_type": "markdown",
      "metadata": {
        "id": "UBlF-DFlBcJe"
      },
      "source": [
        "## 상품 정보 크롤링(모듈화) "
      ]
    },
    {
      "cell_type": "code",
      "execution_count": null,
      "metadata": {
        "id": "cY-i1wvHxy-P"
      },
      "outputs": [],
      "source": [
        "## 모듈화\n",
        "\n",
        "class WebScraping:\n",
        "\n",
        "    def __init__(self, URL):\n",
        "        self.url = URL\n",
        "\n",
        "    def __str__(self):\n",
        "        return self.url\n",
        "\n",
        "    def get_max_page_num(self, base_page_num=1):\n",
        "        \n",
        "        page_num = base_page_num\n",
        "        response = requests.get(self.url)\n",
        "        soup = BeautifulSoup(response.text, 'html.parser')\n",
        "        total_page_num = soup.select('div.thumbType_box.box')[0].select('span.totalPagingNum')[0].text\n",
        "\n",
        "        return total_page_num\n",
        "\n",
        "    def get_product_info(self):\n",
        "\n",
        "        self.page_num = int(self.get_max_page_num())\n",
        "\n",
        "        brand_lists = []\n",
        "        prod_lists = []\n",
        "        price_lists = []\n",
        "        url_lists = []\n",
        "\n",
        "        for page in range(1,self.page_num):   \n",
        "\n",
        "            page_num = page\n",
        "            response = requests.get(self.url)\n",
        "            soup = BeautifulSoup(response.text, 'html.parser')\n",
        "            boxes = soup.select('div.list-box.box')[0].select('li.li_box')\n",
        "\n",
        "            for box in boxes:\n",
        "                brand = box.select('div.li_inner')[0].select('p.item_title')[0].text\n",
        "                prod_name = box.select('div.li_inner')[0].find('a')['title']\n",
        "                prices = box.select('div.li_inner')[0].select('p.price')[0].text\n",
        "                url = box.select('div.li_inner')[0].find('a')['href']\n",
        "\n",
        "                brand_lists.append(brand)\n",
        "                prod_lists.append(prod_name)\n",
        "                price_lists.append(prices)\n",
        "                url_lists.append(url)\n",
        "\n",
        "        import pandas as pd\n",
        "        prod_df = pd.DataFrame({'brand': brand_lists, 'product':prod_lists, 'price':price_lists, 'url':url_lists})\n",
        "        return prod_df\n",
        "\n",
        "\n",
        "    ### 메인페이지에서 상품별 주소 추출 \n",
        "\n",
        "\n",
        "    def get_prod_url(self):\n",
        "        df = self.get_product_info()\n",
        "        url_lists = df.url.tolist()\n",
        "        return url_lists\n",
        "\n",
        "\n",
        "    def get_max_page_num_for_review(self):\n",
        "        url_lists = self.get_prod_url()\n",
        "        max_num_lists = []\n",
        "\n",
        "        for url in url_lists:\n",
        "            # webdriver 실행\n",
        "            driver = webdriver.Chrome('chromedriver', options=chrome_options)\n",
        "            driver.get(url)\n",
        "            max_num = driver.find_element(By.CLASS_NAME, \"pagingNumber-box.box\").find_element(By.CLASS_NAME, 'totalPagingNum').text.split('/')[1].strip()\n",
        "            max_num_lists.append(max_num)\n",
        "        \n",
        "        assert len(url_lists) == len(max_num_lists)\n",
        "\n",
        "        return max_num_lists\n",
        "\n",
        "    ### 리뷰 추출\n",
        "\n",
        "    def get_reviews(self):\n",
        "\n",
        "        url_lists = self.get_prod_url()\n",
        "        page_num_lists = self.get_max_page_num_for_review()\n",
        "\n",
        "        reviews = []\n",
        "\n",
        "        for url, num in zip(url_lists, page_num_lists):\n",
        "            \n",
        "            page_num = num\n",
        "\n",
        "            # webdriver 실행\n",
        "            driver = webdriver.Chrome('chromedriver', options=chrome_options)\n",
        "            driver.get(url)\n",
        "\n",
        "            # 스타일 리뷰 버튼 (1페이지부터 시작)\n",
        "            style_review_button = driver.find_element(By.ID, \"estimate_style\")\n",
        "            style_review_button.click()  # 클릭하고 \n",
        "            time.sleep(1)   # 1초 쉬고\n",
        "                \n",
        "            review_lists = []\n",
        "\n",
        "\n",
        "            for page in range(1, page_num+1):\n",
        "\n",
        "                # 리뷰 리스트(블락) \n",
        "                blocks = driver.find_element(By.ID, \"reviewListFragment\")\n",
        "                review_blocks = blocks.find_elements(By.CLASS_NAME, \"review-list\")\n",
        "                review_lists += [review.find_element(By.CLASS_NAME, 'review-contents__text').text for review in review_blocks]\n",
        "\n",
        "\n",
        "                # 다음 페이지 넘버 버튼\n",
        "                pagination = driver.find_element(By.CLASS_NAME, 'wrapper')\n",
        "                page_cl = pagination.find_elements(By.CSS_SELECTOR, \"a.paging-btn.btn\")  #\n",
        "                for pg in page_cl:\n",
        "                    pg.find_element(By.XPATH, \"//a[contains(text(), 'str(page+1)')]\").cilck()   # 다음페이지 찾고 클릭\n",
        "\n",
        "                time.sleep(1)  #로딩하는 시간 1초 쉬고\n",
        "                \n",
        "                if page % 5 == 0 : \n",
        "                    next_button = driver.find_element(By.CLASS_NAME, \"fa.fa-angle-right.paging-btn.btn.next\")  #\n",
        "                    next_button.send_keys(Keys.ENTER)  #클릭! (왜인지 click()이 먹지 않아서 수정)\n",
        "                    time.sleep(1)  #로딩하는 시간 1초 쉬고       \n",
        "                \n",
        "                if page % 10 == 0:\n",
        "                    print(len(review_lists))\n",
        "                \n",
        "            reviews.extend(review_lists)\n",
        "\n",
        "            review_df = pd.DataFrame({'url':url, 'review': reviews})\n",
        "\n",
        "            return review_df"
      ]
    },
    {
      "cell_type": "code",
      "execution_count": null,
      "metadata": {
        "colab": {
          "base_uri": "https://localhost:8080/"
        },
        "id": "cTAkjI4r0el4",
        "outputId": "f20f1932-df34-4dd7-c884-2c98974cf6b0"
      },
      "outputs": [
        {
          "output_type": "execute_result",
          "data": {
            "text/plain": [
              "\"\\nURL = f'https://www.musinsa.com/category/001004?d_cat_cd=001004&brand=&rate=&page_kind=search&list_kind=small&sort=emt_high&sub_sort=&page={page_num}&display_cnt=90&sale_goods=&group_sale=&kids=N&ex_soldout=&color=&price1=&price2=&exclusive_yn=&shoeSizeOption=&tags=&campaign_id=&timesale_yn=&q=&includeKeywords=&measure='\\n\\nscrap = WebScraping(URL)\\nprod_df = scrap.get_product_info()\\nurl_lists = scrap.get_prod_url()\\nmax_num_lists = scrap.get_max_page_num_for_review()\\nreview_df = scrap.get_reviews()\\n\\n\""
            ],
            "application/vnd.google.colaboratory.intrinsic+json": {
              "type": "string"
            }
          },
          "metadata": {},
          "execution_count": 8
        }
      ],
      "source": [
        "## class 실행 \n",
        "'''\n",
        "URL = f'https://www.musinsa.com/category/001004?d_cat_cd=001004&brand=&rate=&page_kind=search&list_kind=small&sort=emt_high&sub_sort=&page={page_num}&display_cnt=90&sale_goods=&group_sale=&kids=N&ex_soldout=&color=&price1=&price2=&exclusive_yn=&shoeSizeOption=&tags=&campaign_id=&timesale_yn=&q=&includeKeywords=&measure='\n",
        "\n",
        "scrap = WebScraping(URL)\n",
        "prod_df = scrap.get_product_info()\n",
        "url_lists = scrap.get_prod_url()\n",
        "max_num_lists = scrap.get_max_page_num_for_review()\n",
        "review_df = scrap.get_reviews()\n",
        "\n",
        "'''"
      ]
    },
    {
      "cell_type": "markdown",
      "metadata": {
        "id": "Oo2O6abDRjNk"
      },
      "source": [
        "## 스크래핑 함수 실행"
      ]
    },
    {
      "cell_type": "markdown",
      "metadata": {
        "id": "bZili05JP77G"
      },
      "source": [
        "### 상품 기본정보 추출(메인페이지) "
      ]
    },
    {
      "cell_type": "code",
      "execution_count": null,
      "metadata": {
        "id": "FnlYGqJep4q8"
      },
      "outputs": [],
      "source": [
        "## url : 후기순 나열 셔츠/블라우스\n",
        "url = f'https://www.musinsa.com/category/001002?d_cat_cd=001002&brand=&rate=&page_kind=search&list_kind=small&sort=emt_high&sub_sort=&page={page_num}&display_cnt=90&sale_goods=&group_sale=&kids=N&ex_soldout=&color=&price1=&price2=&exclusive_yn=&shoeSizeOption=&tags=&campaign_id=&timesale_yn=&q=&includeKeywords=&measure='\n",
        "\n",
        "# 메인페이지에서 max_page_num 추출\n",
        "def get_max_page_num(url, page_num=1):\n",
        "\n",
        "    response = requests.get(url)\n",
        "    soup = BeautifulSoup(response.text, 'html.parser')\n",
        "    total_page_num = soup.select('div.thumbType_box.box')[0].select('span.totalPagingNum')[0].text\n",
        "\n",
        "    return total_page_num\n",
        "    \n",
        "\n",
        "# 상품 정보 추출(requests ver)\n",
        "def get_product_info(page_number):\n",
        "\n",
        "    brand_lists = []\n",
        "    prod_lists = []\n",
        "    price_lists = []\n",
        "    url_lists = []\n",
        "\n",
        "    for page in range(1,page_number):   \n",
        "\n",
        "        page_num = page\n",
        "        url = f'https://www.musinsa.com/category/001002?d_cat_cd=001002&brand=&rate=&page_kind=search&list_kind=small&sort=emt_high&sub_sort=&page={page_num}&display_cnt=90&sale_goods=&group_sale=&kids=N&ex_soldout=&color=&price1=&price2=&exclusive_yn=&shoeSizeOption=&tags=&campaign_id=&timesale_yn=&q=&includeKeywords=&measure='\n",
        "\n",
        "        response = requests.get(url)\n",
        "        soup = BeautifulSoup(response.text, 'html.parser')\n",
        "        boxes = soup.select('div.list-box.box')[0].select('li.li_box')\n",
        "        #print(len(boxes))\n",
        "\n",
        "\n",
        "        for box in boxes:\n",
        "            brand = box.select('div.li_inner')[0].select('p.item_title')[0].text\n",
        "            prod_name = box.select('div.li_inner')[0].find('a')['title']\n",
        "            prices = box.select('div.li_inner')[0].select('p.price')[0].text\n",
        "            url = box.select('div.li_inner')[0].find('a')['href']\n",
        "\n",
        "            brand_lists.append(brand)\n",
        "            prod_lists.append(prod_name)\n",
        "            price_lists.append(prices)\n",
        "            url_lists.append(url)\n",
        "    \n",
        "    prod_df = pd.DataFrame({'brand': brand_lists, 'product':prod_lists, 'price':price_lists, 'url':url_lists})\n",
        "    return prod_df\n"
      ]
    },
    {
      "cell_type": "code",
      "execution_count": null,
      "metadata": {
        "colab": {
          "base_uri": "https://localhost:8080/",
          "height": 123
        },
        "id": "gx3aNvRwAibz",
        "outputId": "bae47aba-f8ef-451b-c11f-818222e3db45"
      },
      "outputs": [
        {
          "output_type": "execute_result",
          "data": {
            "text/plain": [
              "'\\n### 메인페이지에서 상품별 주소 추출(selenium ver)\\ndef get_product_info(url):\\n\\n    # webdriver 실행\\n    driver = webdriver.Chrome(\\'chromedriver\\', options=chrome_options)\\n    driver.get(url)\\n        \\n    brand_lists = []\\n    #price_lists = []\\n    url_num_lists = []\\n\\n    total_page = driver.find_element(By.CLASS_NAME, \"thumbType_box.box\").find_element(By.XPATH, \"//span[@class=\\'totalPagingNum\\']\").text\\n\\n    for page in range(1, int(total_page)+1):\\n\\n        # 상품 리스트\\n        blocks = driver.find_element(By.ID, \"goods_list\").find_element(By.CLASS_NAME, \"list-box.box\")\\n        prod_boxes = blocks.find_elements(By.XPATH, \"//li[@class=\\'li_box\\']\")\\n        for box in prod_boxes:\\n            url_num = box.get_attribute(\\'data-no\\')\\n            prod_info = box.find_element(By.CLASS_NAME, \\'li_inner\\').find_element(By.CLASS_NAME,\\'article_info\\')\\n            brand_name = prod_info.find_element(By.CLASS_NAME, \\'item_title\\').text\\n            #price = prod_info.find_element(By.CLASS_NAME, \\'price\\').text\\n\\n            brand_lists.append(brand_name)\\n            #price_lists.append(price)\\n            url_num_lists.append(url_num)\\n\\n\\n        # 다음 페이지 넘버 버튼\\n        pagination = driver.find_element(By.CLASS_NAME, \\'wrapper\\')\\n        page_cl = pagination.find_elements(By.CSS_SELECTOR, \"a.paging-btn.btn\")  #\\n        for pg in page_cl:\\n            pg.find_element(By.XPATH, \"//a[contains(text(), \\'str(page+1)\\')]\").cilck()  \\n        time.sleep(1)  \\n\\n        if page % 10 == 0 : \\n            next_button = driver.find_element(By.CLASS_NAME, \"fa.fa-angle-right.paging-btn.btn.next\")  #\\n            next_button.send_keys(Keys.ENTER) \\n            time.sleep(1)    \\n\\n\\n    import pandas as pd\\n    review_df = pd.DataFrame({\\'brand\\': brand_lists,  \\'url_num\\':url_num_lists})\\n    return review_df\\n'"
            ],
            "application/vnd.google.colaboratory.intrinsic+json": {
              "type": "string"
            }
          },
          "metadata": {},
          "execution_count": 10
        }
      ],
      "source": [
        "'''\n",
        "### 메인페이지에서 상품별 주소 추출(selenium ver)\n",
        "def get_product_info(url):\n",
        "\n",
        "    # webdriver 실행\n",
        "    driver = webdriver.Chrome('chromedriver', options=chrome_options)\n",
        "    driver.get(url)\n",
        "        \n",
        "    brand_lists = []\n",
        "    #price_lists = []\n",
        "    url_num_lists = []\n",
        "\n",
        "    total_page = driver.find_element(By.CLASS_NAME, \"thumbType_box.box\").find_element(By.XPATH, \"//span[@class='totalPagingNum']\").text\n",
        "\n",
        "    for page in range(1, int(total_page)+1):\n",
        "\n",
        "        # 상품 리스트\n",
        "        blocks = driver.find_element(By.ID, \"goods_list\").find_element(By.CLASS_NAME, \"list-box.box\")\n",
        "        prod_boxes = blocks.find_elements(By.XPATH, \"//li[@class='li_box']\")\n",
        "        for box in prod_boxes:\n",
        "            url_num = box.get_attribute('data-no')\n",
        "            prod_info = box.find_element(By.CLASS_NAME, 'li_inner').find_element(By.CLASS_NAME,'article_info')\n",
        "            brand_name = prod_info.find_element(By.CLASS_NAME, 'item_title').text\n",
        "            #price = prod_info.find_element(By.CLASS_NAME, 'price').text\n",
        "\n",
        "            brand_lists.append(brand_name)\n",
        "            #price_lists.append(price)\n",
        "            url_num_lists.append(url_num)\n",
        "\n",
        "\n",
        "        # 다음 페이지 넘버 버튼\n",
        "        pagination = driver.find_element(By.CLASS_NAME, 'wrapper')\n",
        "        page_cl = pagination.find_elements(By.CSS_SELECTOR, \"a.paging-btn.btn\")  #\n",
        "        for pg in page_cl:\n",
        "            pg.find_element(By.XPATH, \"//a[contains(text(), 'str(page+1)')]\").cilck()  \n",
        "        time.sleep(1)  \n",
        "\n",
        "        if page % 10 == 0 : \n",
        "            next_button = driver.find_element(By.CLASS_NAME, \"fa.fa-angle-right.paging-btn.btn.next\")  #\n",
        "            next_button.send_keys(Keys.ENTER) \n",
        "            time.sleep(1)    \n",
        "\n",
        "\n",
        "    import pandas as pd\n",
        "    review_df = pd.DataFrame({'brand': brand_lists,  'url_num':url_num_lists})\n",
        "    return review_df\n",
        "'''"
      ]
    },
    {
      "cell_type": "markdown",
      "metadata": {
        "id": "FM1m-i2ORcPr"
      },
      "source": [
        "### 리뷰 추출"
      ]
    },
    {
      "cell_type": "code",
      "execution_count": null,
      "metadata": {
        "colab": {
          "base_uri": "https://localhost:8080/"
        },
        "id": "KbSj4920FBw3",
        "outputId": "c1f6190b-96b5-44df-aad1-8dfd242ac825"
      },
      "outputs": [
        {
          "output_type": "execute_result",
          "data": {
            "text/plain": [
              "(360, 4)"
            ]
          },
          "metadata": {},
          "execution_count": 11
        }
      ],
      "source": [
        "#cat = 001004  # 후드티셔츠\n",
        "#url = f'https://www.musinsa.com/category/001004?d_cat_cd=001004&brand=&rate=&page_kind=search&list_kind=small&sort=emt_high&sub_sort=&page={page_num}&display_cnt=90&sale_goods=&group_sale=&kids=N&ex_soldout=&color=&price1=&price2=&exclusive_yn=&shoeSizeOption=&tags=&campaign_id=&timesale_yn=&q=&includeKeywords=&measure='\n",
        "\n",
        "prod_df = get_product_info(page_number=5)   # 상품 5페이지\n",
        "prod_df.shape "
      ]
    },
    {
      "cell_type": "code",
      "execution_count": null,
      "metadata": {
        "colab": {
          "base_uri": "https://localhost:8080/",
          "height": 989
        },
        "id": "CuJbhT1zVsIt",
        "outputId": "e8fdce09-21ca-4536-9aa6-267c1cf2d1ee"
      },
      "outputs": [
        {
          "output_type": "execute_result",
          "data": {
            "text/plain": [
              "        brand                         product  \\\n",
              "0   다이아몬드 레이라            플러프 무드 체크 셔츠 S24 네이비   \n",
              "1       테이크이지            솔리드 옥스포드 오버셔츠(스카이블루)   \n",
              "2    무신사 스탠다드               베이식 옥스포드 셔츠 [화이트]   \n",
              "3       쟈니웨스트    Wooltan Check Shirts (Cream)   \n",
              "4   다이아몬드 레이라          빈티지 블랙 도트 스트라이프 셔츠 S22   \n",
              "5       테이크이지              솔리드 옥스포드 오버셔츠(화이트)   \n",
              "6    무신사 스탠다드             릴렉스 핏 옥스포드 셔츠 [화이트]   \n",
              "7       아노블리어         루즈핏 오픈카라 텐셀 린넨 셔츠 [네이비]   \n",
              "8      라퍼지스토어    시티보이 빅오버 옥스포드 반팔 셔츠_Sky Blue   \n",
              "9       파르티멘토     Hair Line Stripe Shirts Sky   \n",
              "10   무신사 스탠다드               릴렉스 핏 실키 셔츠 [화이트]   \n",
              "11        스파오          오버핏 옥스포드 셔츠_SPYWC12C02   \n",
              "12      아노블리어         루즈핏 오픈카라 텐셀 린넨 셔츠 [오트밀]   \n",
              "13  다이아몬드 레이라                  클래식 화이트 셔츠 S40   \n",
              "14   무신사 스탠다드                릴렉스 핏 실키 셔츠 [블랙]   \n",
              "15   무신사 스탠다드            릴렉스 핏 실키 셔츠 [다크 네이비]   \n",
              "16   무신사 스탠다드           릴렉스 핏 실키 셔츠 [그레이쉬 블루]   \n",
              "17     필루미네이트         [리뉴얼] 옵티멀 베이직 린넨 셔츠-화이트   \n",
              "18  다이아몬드 레이라            플러프 무드 체크 셔츠 S24 브라운   \n",
              "19   무신사 스탠다드    [유아인 착용 상품] 릴렉스 핏 실키 셔츠 [카키]   \n",
              "20        퍼스텝        피그먼트 루즈핏 셔츠 베이지 SMLS4058   \n",
              "21      아노블리어          루즈핏 오픈카라 텐셀 린넨 셔츠 [블랙]   \n",
              "22         예일  STRIPE HANDSOME DAN SHIRT BLUE   \n",
              "23  다이아몬드 레이라               헤링본 클래식 체크 셔츠 S41   \n",
              "24     라퍼지스토어       시티보이 빅오버 옥스포드 반팔 셔츠_White   \n",
              "25     필루미네이트       [리뉴얼] 오버핏 글림 스트라이프 셔츠-네이비   \n",
              "26     커스텀어클락                 옥스포드 베이직 셔츠 화이트   \n",
              "27        후아유         스티브 보이핏 오버셔츠 WHYAC2225U   \n",
              "28   무신사 스탠다드              릴렉스 핏 옥스포드 셔츠 [블루]   \n",
              "29      테이크이지     [컬러추가]PIN STRIPE OVER SHIRT   \n",
              "\n",
              "                                                price  \\\n",
              "0     \\n68,000원 51,000원\\n                               \n",
              "1     \\n67,000원 53,600원\\n                               \n",
              "2   \\n                                 24,900원\\n  ...   \n",
              "3     \\n34,000원 32,300원\\n                               \n",
              "4     \\n65,000원 51,000원\\n                               \n",
              "5     \\n67,000원 53,600원\\n                               \n",
              "6   \\n                                 24,900원\\n  ...   \n",
              "7     \\n60,000원 56,400원\\n                               \n",
              "8     \\n45,000원 36,000원\\n                               \n",
              "9     \\n39,000원 29,900원\\n                               \n",
              "10  \\n                                 23,900원\\n  ...   \n",
              "11  \\n                                 29,900원\\n  ...   \n",
              "12    \\n60,000원 56,400원\\n                               \n",
              "13    \\n59,000원 49,000원\\n                               \n",
              "14  \\n                                 23,900원\\n  ...   \n",
              "15  \\n                                 23,900원\\n  ...   \n",
              "16  \\n                                 23,900원\\n  ...   \n",
              "17    \\n46,000원 34,500원\\n                               \n",
              "18    \\n68,000원 51,000원\\n                               \n",
              "19  \\n                                 23,900원\\n  ...   \n",
              "20    \\n42,900원 40,700원\\n                               \n",
              "21    \\n60,000원 56,400원\\n                               \n",
              "22    \\n69,000원 48,300원\\n                               \n",
              "23    \\n69,000원 51,000원\\n                               \n",
              "24    \\n45,000원 36,000원\\n                               \n",
              "25    \\n46,000원 34,500원\\n                               \n",
              "26    \\n39,000원 35,100원\\n                               \n",
              "27    \\n49,900원 44,910원\\n                               \n",
              "28  \\n                                 24,900원\\n  ...   \n",
              "29    \\n67,000원 40,200원\\n                               \n",
              "\n",
              "                                            url  \n",
              "0    https://store.musinsa.com/app/goods/859956  \n",
              "1   https://store.musinsa.com/app/goods/1336398  \n",
              "2    https://store.musinsa.com/app/goods/728000  \n",
              "3    https://store.musinsa.com/app/goods/890749  \n",
              "4    https://store.musinsa.com/app/goods/826451  \n",
              "5   https://store.musinsa.com/app/goods/1336290  \n",
              "6    https://store.musinsa.com/app/goods/854337  \n",
              "7   https://store.musinsa.com/app/goods/1008043  \n",
              "8   https://store.musinsa.com/app/goods/1935180  \n",
              "9    https://store.musinsa.com/app/goods/533067  \n",
              "10   https://store.musinsa.com/app/goods/983818  \n",
              "11  https://store.musinsa.com/app/goods/2272830  \n",
              "12  https://store.musinsa.com/app/goods/1008039  \n",
              "13  https://store.musinsa.com/app/goods/1116117  \n",
              "14   https://store.musinsa.com/app/goods/983819  \n",
              "15   https://store.musinsa.com/app/goods/983824  \n",
              "16   https://store.musinsa.com/app/goods/983822  \n",
              "17   https://store.musinsa.com/app/goods/994588  \n",
              "18   https://store.musinsa.com/app/goods/859949  \n",
              "19   https://store.musinsa.com/app/goods/983823  \n",
              "20   https://store.musinsa.com/app/goods/483796  \n",
              "21  https://store.musinsa.com/app/goods/1067420  \n",
              "22  https://store.musinsa.com/app/goods/1776344  \n",
              "23  https://store.musinsa.com/app/goods/1116155  \n",
              "24  https://store.musinsa.com/app/goods/1935174  \n",
              "25  https://store.musinsa.com/app/goods/1009551  \n",
              "26   https://store.musinsa.com/app/goods/409641  \n",
              "27  https://store.musinsa.com/app/goods/2024224  \n",
              "28   https://store.musinsa.com/app/goods/854339  \n",
              "29   https://store.musinsa.com/app/goods/592829  "
            ],
            "text/html": [
              "\n",
              "  <div id=\"df-6b413b99-0763-407a-8621-4d78424be041\">\n",
              "    <div class=\"colab-df-container\">\n",
              "      <div>\n",
              "<style scoped>\n",
              "    .dataframe tbody tr th:only-of-type {\n",
              "        vertical-align: middle;\n",
              "    }\n",
              "\n",
              "    .dataframe tbody tr th {\n",
              "        vertical-align: top;\n",
              "    }\n",
              "\n",
              "    .dataframe thead th {\n",
              "        text-align: right;\n",
              "    }\n",
              "</style>\n",
              "<table border=\"1\" class=\"dataframe\">\n",
              "  <thead>\n",
              "    <tr style=\"text-align: right;\">\n",
              "      <th></th>\n",
              "      <th>brand</th>\n",
              "      <th>product</th>\n",
              "      <th>price</th>\n",
              "      <th>url</th>\n",
              "    </tr>\n",
              "  </thead>\n",
              "  <tbody>\n",
              "    <tr>\n",
              "      <th>0</th>\n",
              "      <td>다이아몬드 레이라</td>\n",
              "      <td>플러프 무드 체크 셔츠 S24 네이비</td>\n",
              "      <td>\\n68,000원 51,000원\\n</td>\n",
              "      <td>https://store.musinsa.com/app/goods/859956</td>\n",
              "    </tr>\n",
              "    <tr>\n",
              "      <th>1</th>\n",
              "      <td>테이크이지</td>\n",
              "      <td>솔리드 옥스포드 오버셔츠(스카이블루)</td>\n",
              "      <td>\\n67,000원 53,600원\\n</td>\n",
              "      <td>https://store.musinsa.com/app/goods/1336398</td>\n",
              "    </tr>\n",
              "    <tr>\n",
              "      <th>2</th>\n",
              "      <td>무신사 스탠다드</td>\n",
              "      <td>베이식 옥스포드 셔츠 [화이트]</td>\n",
              "      <td>\\n                                 24,900원\\n  ...</td>\n",
              "      <td>https://store.musinsa.com/app/goods/728000</td>\n",
              "    </tr>\n",
              "    <tr>\n",
              "      <th>3</th>\n",
              "      <td>쟈니웨스트</td>\n",
              "      <td>Wooltan Check Shirts (Cream)</td>\n",
              "      <td>\\n34,000원 32,300원\\n</td>\n",
              "      <td>https://store.musinsa.com/app/goods/890749</td>\n",
              "    </tr>\n",
              "    <tr>\n",
              "      <th>4</th>\n",
              "      <td>다이아몬드 레이라</td>\n",
              "      <td>빈티지 블랙 도트 스트라이프 셔츠 S22</td>\n",
              "      <td>\\n65,000원 51,000원\\n</td>\n",
              "      <td>https://store.musinsa.com/app/goods/826451</td>\n",
              "    </tr>\n",
              "    <tr>\n",
              "      <th>5</th>\n",
              "      <td>테이크이지</td>\n",
              "      <td>솔리드 옥스포드 오버셔츠(화이트)</td>\n",
              "      <td>\\n67,000원 53,600원\\n</td>\n",
              "      <td>https://store.musinsa.com/app/goods/1336290</td>\n",
              "    </tr>\n",
              "    <tr>\n",
              "      <th>6</th>\n",
              "      <td>무신사 스탠다드</td>\n",
              "      <td>릴렉스 핏 옥스포드 셔츠 [화이트]</td>\n",
              "      <td>\\n                                 24,900원\\n  ...</td>\n",
              "      <td>https://store.musinsa.com/app/goods/854337</td>\n",
              "    </tr>\n",
              "    <tr>\n",
              "      <th>7</th>\n",
              "      <td>아노블리어</td>\n",
              "      <td>루즈핏 오픈카라 텐셀 린넨 셔츠 [네이비]</td>\n",
              "      <td>\\n60,000원 56,400원\\n</td>\n",
              "      <td>https://store.musinsa.com/app/goods/1008043</td>\n",
              "    </tr>\n",
              "    <tr>\n",
              "      <th>8</th>\n",
              "      <td>라퍼지스토어</td>\n",
              "      <td>시티보이 빅오버 옥스포드 반팔 셔츠_Sky Blue</td>\n",
              "      <td>\\n45,000원 36,000원\\n</td>\n",
              "      <td>https://store.musinsa.com/app/goods/1935180</td>\n",
              "    </tr>\n",
              "    <tr>\n",
              "      <th>9</th>\n",
              "      <td>파르티멘토</td>\n",
              "      <td>Hair Line Stripe Shirts Sky</td>\n",
              "      <td>\\n39,000원 29,900원\\n</td>\n",
              "      <td>https://store.musinsa.com/app/goods/533067</td>\n",
              "    </tr>\n",
              "    <tr>\n",
              "      <th>10</th>\n",
              "      <td>무신사 스탠다드</td>\n",
              "      <td>릴렉스 핏 실키 셔츠 [화이트]</td>\n",
              "      <td>\\n                                 23,900원\\n  ...</td>\n",
              "      <td>https://store.musinsa.com/app/goods/983818</td>\n",
              "    </tr>\n",
              "    <tr>\n",
              "      <th>11</th>\n",
              "      <td>스파오</td>\n",
              "      <td>오버핏 옥스포드 셔츠_SPYWC12C02</td>\n",
              "      <td>\\n                                 29,900원\\n  ...</td>\n",
              "      <td>https://store.musinsa.com/app/goods/2272830</td>\n",
              "    </tr>\n",
              "    <tr>\n",
              "      <th>12</th>\n",
              "      <td>아노블리어</td>\n",
              "      <td>루즈핏 오픈카라 텐셀 린넨 셔츠 [오트밀]</td>\n",
              "      <td>\\n60,000원 56,400원\\n</td>\n",
              "      <td>https://store.musinsa.com/app/goods/1008039</td>\n",
              "    </tr>\n",
              "    <tr>\n",
              "      <th>13</th>\n",
              "      <td>다이아몬드 레이라</td>\n",
              "      <td>클래식 화이트 셔츠 S40</td>\n",
              "      <td>\\n59,000원 49,000원\\n</td>\n",
              "      <td>https://store.musinsa.com/app/goods/1116117</td>\n",
              "    </tr>\n",
              "    <tr>\n",
              "      <th>14</th>\n",
              "      <td>무신사 스탠다드</td>\n",
              "      <td>릴렉스 핏 실키 셔츠 [블랙]</td>\n",
              "      <td>\\n                                 23,900원\\n  ...</td>\n",
              "      <td>https://store.musinsa.com/app/goods/983819</td>\n",
              "    </tr>\n",
              "    <tr>\n",
              "      <th>15</th>\n",
              "      <td>무신사 스탠다드</td>\n",
              "      <td>릴렉스 핏 실키 셔츠 [다크 네이비]</td>\n",
              "      <td>\\n                                 23,900원\\n  ...</td>\n",
              "      <td>https://store.musinsa.com/app/goods/983824</td>\n",
              "    </tr>\n",
              "    <tr>\n",
              "      <th>16</th>\n",
              "      <td>무신사 스탠다드</td>\n",
              "      <td>릴렉스 핏 실키 셔츠 [그레이쉬 블루]</td>\n",
              "      <td>\\n                                 23,900원\\n  ...</td>\n",
              "      <td>https://store.musinsa.com/app/goods/983822</td>\n",
              "    </tr>\n",
              "    <tr>\n",
              "      <th>17</th>\n",
              "      <td>필루미네이트</td>\n",
              "      <td>[리뉴얼] 옵티멀 베이직 린넨 셔츠-화이트</td>\n",
              "      <td>\\n46,000원 34,500원\\n</td>\n",
              "      <td>https://store.musinsa.com/app/goods/994588</td>\n",
              "    </tr>\n",
              "    <tr>\n",
              "      <th>18</th>\n",
              "      <td>다이아몬드 레이라</td>\n",
              "      <td>플러프 무드 체크 셔츠 S24 브라운</td>\n",
              "      <td>\\n68,000원 51,000원\\n</td>\n",
              "      <td>https://store.musinsa.com/app/goods/859949</td>\n",
              "    </tr>\n",
              "    <tr>\n",
              "      <th>19</th>\n",
              "      <td>무신사 스탠다드</td>\n",
              "      <td>[유아인 착용 상품] 릴렉스 핏 실키 셔츠 [카키]</td>\n",
              "      <td>\\n                                 23,900원\\n  ...</td>\n",
              "      <td>https://store.musinsa.com/app/goods/983823</td>\n",
              "    </tr>\n",
              "    <tr>\n",
              "      <th>20</th>\n",
              "      <td>퍼스텝</td>\n",
              "      <td>피그먼트 루즈핏 셔츠 베이지 SMLS4058</td>\n",
              "      <td>\\n42,900원 40,700원\\n</td>\n",
              "      <td>https://store.musinsa.com/app/goods/483796</td>\n",
              "    </tr>\n",
              "    <tr>\n",
              "      <th>21</th>\n",
              "      <td>아노블리어</td>\n",
              "      <td>루즈핏 오픈카라 텐셀 린넨 셔츠 [블랙]</td>\n",
              "      <td>\\n60,000원 56,400원\\n</td>\n",
              "      <td>https://store.musinsa.com/app/goods/1067420</td>\n",
              "    </tr>\n",
              "    <tr>\n",
              "      <th>22</th>\n",
              "      <td>예일</td>\n",
              "      <td>STRIPE HANDSOME DAN SHIRT BLUE</td>\n",
              "      <td>\\n69,000원 48,300원\\n</td>\n",
              "      <td>https://store.musinsa.com/app/goods/1776344</td>\n",
              "    </tr>\n",
              "    <tr>\n",
              "      <th>23</th>\n",
              "      <td>다이아몬드 레이라</td>\n",
              "      <td>헤링본 클래식 체크 셔츠 S41</td>\n",
              "      <td>\\n69,000원 51,000원\\n</td>\n",
              "      <td>https://store.musinsa.com/app/goods/1116155</td>\n",
              "    </tr>\n",
              "    <tr>\n",
              "      <th>24</th>\n",
              "      <td>라퍼지스토어</td>\n",
              "      <td>시티보이 빅오버 옥스포드 반팔 셔츠_White</td>\n",
              "      <td>\\n45,000원 36,000원\\n</td>\n",
              "      <td>https://store.musinsa.com/app/goods/1935174</td>\n",
              "    </tr>\n",
              "    <tr>\n",
              "      <th>25</th>\n",
              "      <td>필루미네이트</td>\n",
              "      <td>[리뉴얼] 오버핏 글림 스트라이프 셔츠-네이비</td>\n",
              "      <td>\\n46,000원 34,500원\\n</td>\n",
              "      <td>https://store.musinsa.com/app/goods/1009551</td>\n",
              "    </tr>\n",
              "    <tr>\n",
              "      <th>26</th>\n",
              "      <td>커스텀어클락</td>\n",
              "      <td>옥스포드 베이직 셔츠 화이트</td>\n",
              "      <td>\\n39,000원 35,100원\\n</td>\n",
              "      <td>https://store.musinsa.com/app/goods/409641</td>\n",
              "    </tr>\n",
              "    <tr>\n",
              "      <th>27</th>\n",
              "      <td>후아유</td>\n",
              "      <td>스티브 보이핏 오버셔츠 WHYAC2225U</td>\n",
              "      <td>\\n49,900원 44,910원\\n</td>\n",
              "      <td>https://store.musinsa.com/app/goods/2024224</td>\n",
              "    </tr>\n",
              "    <tr>\n",
              "      <th>28</th>\n",
              "      <td>무신사 스탠다드</td>\n",
              "      <td>릴렉스 핏 옥스포드 셔츠 [블루]</td>\n",
              "      <td>\\n                                 24,900원\\n  ...</td>\n",
              "      <td>https://store.musinsa.com/app/goods/854339</td>\n",
              "    </tr>\n",
              "    <tr>\n",
              "      <th>29</th>\n",
              "      <td>테이크이지</td>\n",
              "      <td>[컬러추가]PIN STRIPE OVER SHIRT</td>\n",
              "      <td>\\n67,000원 40,200원\\n</td>\n",
              "      <td>https://store.musinsa.com/app/goods/592829</td>\n",
              "    </tr>\n",
              "  </tbody>\n",
              "</table>\n",
              "</div>\n",
              "      <button class=\"colab-df-convert\" onclick=\"convertToInteractive('df-6b413b99-0763-407a-8621-4d78424be041')\"\n",
              "              title=\"Convert this dataframe to an interactive table.\"\n",
              "              style=\"display:none;\">\n",
              "        \n",
              "  <svg xmlns=\"http://www.w3.org/2000/svg\" height=\"24px\"viewBox=\"0 0 24 24\"\n",
              "       width=\"24px\">\n",
              "    <path d=\"M0 0h24v24H0V0z\" fill=\"none\"/>\n",
              "    <path d=\"M18.56 5.44l.94 2.06.94-2.06 2.06-.94-2.06-.94-.94-2.06-.94 2.06-2.06.94zm-11 1L8.5 8.5l.94-2.06 2.06-.94-2.06-.94L8.5 2.5l-.94 2.06-2.06.94zm10 10l.94 2.06.94-2.06 2.06-.94-2.06-.94-.94-2.06-.94 2.06-2.06.94z\"/><path d=\"M17.41 7.96l-1.37-1.37c-.4-.4-.92-.59-1.43-.59-.52 0-1.04.2-1.43.59L10.3 9.45l-7.72 7.72c-.78.78-.78 2.05 0 2.83L4 21.41c.39.39.9.59 1.41.59.51 0 1.02-.2 1.41-.59l7.78-7.78 2.81-2.81c.8-.78.8-2.07 0-2.86zM5.41 20L4 18.59l7.72-7.72 1.47 1.35L5.41 20z\"/>\n",
              "  </svg>\n",
              "      </button>\n",
              "      \n",
              "  <style>\n",
              "    .colab-df-container {\n",
              "      display:flex;\n",
              "      flex-wrap:wrap;\n",
              "      gap: 12px;\n",
              "    }\n",
              "\n",
              "    .colab-df-convert {\n",
              "      background-color: #E8F0FE;\n",
              "      border: none;\n",
              "      border-radius: 50%;\n",
              "      cursor: pointer;\n",
              "      display: none;\n",
              "      fill: #1967D2;\n",
              "      height: 32px;\n",
              "      padding: 0 0 0 0;\n",
              "      width: 32px;\n",
              "    }\n",
              "\n",
              "    .colab-df-convert:hover {\n",
              "      background-color: #E2EBFA;\n",
              "      box-shadow: 0px 1px 2px rgba(60, 64, 67, 0.3), 0px 1px 3px 1px rgba(60, 64, 67, 0.15);\n",
              "      fill: #174EA6;\n",
              "    }\n",
              "\n",
              "    [theme=dark] .colab-df-convert {\n",
              "      background-color: #3B4455;\n",
              "      fill: #D2E3FC;\n",
              "    }\n",
              "\n",
              "    [theme=dark] .colab-df-convert:hover {\n",
              "      background-color: #434B5C;\n",
              "      box-shadow: 0px 1px 3px 1px rgba(0, 0, 0, 0.15);\n",
              "      filter: drop-shadow(0px 1px 2px rgba(0, 0, 0, 0.3));\n",
              "      fill: #FFFFFF;\n",
              "    }\n",
              "  </style>\n",
              "\n",
              "      <script>\n",
              "        const buttonEl =\n",
              "          document.querySelector('#df-6b413b99-0763-407a-8621-4d78424be041 button.colab-df-convert');\n",
              "        buttonEl.style.display =\n",
              "          google.colab.kernel.accessAllowed ? 'block' : 'none';\n",
              "\n",
              "        async function convertToInteractive(key) {\n",
              "          const element = document.querySelector('#df-6b413b99-0763-407a-8621-4d78424be041');\n",
              "          const dataTable =\n",
              "            await google.colab.kernel.invokeFunction('convertToInteractive',\n",
              "                                                     [key], {});\n",
              "          if (!dataTable) return;\n",
              "\n",
              "          const docLinkHtml = 'Like what you see? Visit the ' +\n",
              "            '<a target=\"_blank\" href=https://colab.research.google.com/notebooks/data_table.ipynb>data table notebook</a>'\n",
              "            + ' to learn more about interactive tables.';\n",
              "          element.innerHTML = '';\n",
              "          dataTable['output_type'] = 'display_data';\n",
              "          await google.colab.output.renderOutput(dataTable, element);\n",
              "          const docLink = document.createElement('div');\n",
              "          docLink.innerHTML = docLinkHtml;\n",
              "          element.appendChild(docLink);\n",
              "        }\n",
              "      </script>\n",
              "    </div>\n",
              "  </div>\n",
              "  "
            ]
          },
          "metadata": {},
          "execution_count": 12
        }
      ],
      "source": [
        "prod_df.head(30)"
      ]
    },
    {
      "cell_type": "code",
      "execution_count": null,
      "metadata": {
        "id": "XTr-aTK8R420"
      },
      "outputs": [],
      "source": [
        "prods = prod_df.url[:30] # 그 중 30개 url(상품)에 대한 리뷰 추출"
      ]
    },
    {
      "cell_type": "code",
      "source": [
        "# 상품기본정보 파일 저장\n",
        "prod_df.to_csv('prod_df.csv', index = False)"
      ],
      "metadata": {
        "id": "NQ3pbl5nOJ6_"
      },
      "execution_count": null,
      "outputs": []
    },
    {
      "cell_type": "code",
      "execution_count": null,
      "metadata": {
        "id": "8BMs1WAvR_tM"
      },
      "outputs": [],
      "source": [
        "urls = prod_df.url[:30].tolist()"
      ]
    },
    {
      "cell_type": "code",
      "execution_count": null,
      "metadata": {
        "id": "QXEg7S6zS_Y-"
      },
      "outputs": [],
      "source": [
        "## 리뷰페이지의 max_page_num 추출\n",
        "def get_max_page_num_for_review(url_lists):\n",
        "    max_num_lists = []\n",
        "\n",
        "    for url in url_lists:\n",
        "        # webdriver 실행\n",
        "        driver = webdriver.Chrome('chromedriver', options=chrome_options)\n",
        "        driver.get(url)\n",
        "        max_num = driver.find_element(By.CLASS_NAME, \"pagingNumber-box.box\").find_element(By.CLASS_NAME, 'totalPagingNum').text.split('/')[1].strip()\n",
        "        max_num_lists.append(max_num)\n",
        "    \n",
        "    assert len(url_lists) == len(max_num_lists)\n",
        "\n",
        "    return max_num_lists"
      ]
    },
    {
      "cell_type": "code",
      "execution_count": null,
      "metadata": {
        "id": "l413HgAWTMgT"
      },
      "outputs": [],
      "source": [
        "max_num_lists = get_max_page_num_for_review(urls)"
      ]
    },
    {
      "cell_type": "code",
      "execution_count": null,
      "metadata": {
        "id": "Up3bN39bLefy"
      },
      "outputs": [],
      "source": [
        "### 리뷰 추출\n",
        "\n",
        "def get_reviews(url, page_num):\n",
        "\n",
        "    # webdriver 실행\n",
        "    driver = webdriver.Chrome('chromedriver', options=chrome_options)\n",
        "    driver.get(url)\n",
        "\n",
        "    # 스타일 리뷰 버튼 (1페이지부터 시작)\n",
        "    style_review_button = driver.find_element(By.ID, \"estimate_style\")\n",
        "    style_review_button.click()  # 클릭하고 \n",
        "    time.sleep(1)   # 1초 쉬고\n",
        "        \n",
        "    review_lists = []\n",
        "\n",
        "\n",
        "    for page in tqdm(range(1, int(page_num)+1)):\n",
        "\n",
        "        # 리뷰 리스트(블락) \n",
        "        blocks = driver.find_element(By.ID, \"reviewListFragment\")\n",
        "        review_blocks = blocks.find_elements(By.CLASS_NAME, \"review-list\")\n",
        "        review_lists += [review.find_element(By.CLASS_NAME, 'review-contents__text').text for review in review_blocks]\n",
        "\n",
        "\n",
        "        # 다음 페이지 넘버 버튼\n",
        "        pagination = driver.find_element(By.CLASS_NAME, 'wrapper')\n",
        "        page_cl = pagination.find_elements(By.CSS_SELECTOR, \"a.paging-btn.btn\")  #\n",
        "        for pg in page_cl:\n",
        "            pg.find_element(By.XPATH, \"//a[contains(text(), 'str(page+1)')]\").cilck()   # 다음페이지 찾고 클릭\n",
        "\n",
        "        time.sleep(1)  #로딩하는 시간 1초 쉬고\n",
        "        \n",
        "        if page % 5 == 0 : \n",
        "            next_button = driver.find_element(By.CLASS_NAME, \"fa.fa-angle-right.paging-btn.btn.next\")  #\n",
        "            next_button.send_keys(Keys.ENTER)  #클릭! (왜인지 click()이 먹지 않아서 수정)\n",
        "            time.sleep(1)  #로딩하는 시간 1초 쉬고       \n",
        "        \n",
        "        #if page % 10 == 0:\n",
        "        #    print(len(review_lists))\n",
        "        \n",
        "    return review_lists"
      ]
    },
    {
      "cell_type": "code",
      "source": [
        "## url 따른 상품명 \n",
        "comb_df = prod_df[['product','url']][:30]\n",
        "prod_name = []\n",
        "for i in range(len(urls)):\n",
        "    prod_name.append(prod_df['product'][i])\n",
        "print(prod_name)"
      ],
      "metadata": {
        "id": "akEp-_EsAmzV",
        "colab": {
          "base_uri": "https://localhost:8080/"
        },
        "outputId": "6759c46c-7a71-4c88-e97e-7387c54b3952"
      },
      "execution_count": null,
      "outputs": [
        {
          "output_type": "stream",
          "name": "stdout",
          "text": [
            "['플러프 무드 체크 셔츠 S24 네이비', '솔리드 옥스포드 오버셔츠(스카이블루)', '베이식 옥스포드 셔츠 [화이트]', 'Wooltan Check Shirts (Cream)', '빈티지 블랙 도트 스트라이프 셔츠 S22', '솔리드 옥스포드 오버셔츠(화이트)', '릴렉스 핏 옥스포드 셔츠 [화이트]', '루즈핏 오픈카라 텐셀 린넨 셔츠 [네이비]', '시티보이 빅오버 옥스포드 반팔 셔츠_Sky Blue', 'Hair Line Stripe Shirts Sky', '릴렉스 핏 실키 셔츠 [화이트]', '오버핏 옥스포드 셔츠_SPYWC12C02', '루즈핏 오픈카라 텐셀 린넨 셔츠 [오트밀]', '클래식 화이트 셔츠 S40', '릴렉스 핏 실키 셔츠 [블랙]', '릴렉스 핏 실키 셔츠 [다크 네이비]', '릴렉스 핏 실키 셔츠 [그레이쉬 블루]', '[리뉴얼] 옵티멀 베이직 린넨 셔츠-화이트', '플러프 무드 체크 셔츠 S24 브라운', '[유아인 착용 상품] 릴렉스 핏 실키 셔츠 [카키]', '피그먼트 루즈핏 셔츠 베이지 SMLS4058', '루즈핏 오픈카라 텐셀 린넨 셔츠 [블랙]', 'STRIPE HANDSOME DAN SHIRT BLUE', '헤링본 클래식 체크 셔츠 S41', '시티보이 빅오버 옥스포드 반팔 셔츠_White', '[리뉴얼] 오버핏 글림 스트라이프 셔츠-네이비', '옥스포드 베이직 셔츠 화이트', '스티브 보이핏 오버셔츠 WHYAC2225U', '릴렉스 핏 옥스포드 셔츠 [블루]', '[컬러추가]PIN STRIPE OVER SHIRT']\n"
          ]
        }
      ]
    },
    {
      "cell_type": "code",
      "execution_count": null,
      "metadata": {
        "id": "ht7sxyenTgau",
        "colab": {
          "base_uri": "https://localhost:8080/"
        },
        "outputId": "8ca725e0-73eb-47ba-9470-602245c48750"
      },
      "outputs": [
        {
          "output_type": "stream",
          "name": "stderr",
          "text": [
            "100%|██████████| 242/242 [05:55<00:00,  1.47s/it]\n"
          ]
        },
        {
          "output_type": "stream",
          "name": "stdout",
          "text": [
            "dict_keys(['플러프 무드 체크 셔츠 S24 네이비'])\n"
          ]
        },
        {
          "output_type": "stream",
          "name": "stderr",
          "text": [
            "100%|██████████| 250/250 [06:09<00:00,  1.48s/it]\n"
          ]
        },
        {
          "output_type": "stream",
          "name": "stdout",
          "text": [
            "dict_keys(['플러프 무드 체크 셔츠 S24 네이비', '솔리드 옥스포드 오버셔츠(스카이블루)'])\n"
          ]
        },
        {
          "output_type": "stream",
          "name": "stderr",
          "text": [
            "100%|██████████| 93/93 [02:13<00:00,  1.44s/it]\n"
          ]
        },
        {
          "output_type": "stream",
          "name": "stdout",
          "text": [
            "dict_keys(['플러프 무드 체크 셔츠 S24 네이비', '솔리드 옥스포드 오버셔츠(스카이블루)', '베이식 옥스포드 셔츠 [화이트]'])\n"
          ]
        },
        {
          "output_type": "stream",
          "name": "stderr",
          "text": [
            "100%|██████████| 270/270 [06:27<00:00,  1.43s/it]\n"
          ]
        },
        {
          "output_type": "stream",
          "name": "stdout",
          "text": [
            "dict_keys(['플러프 무드 체크 셔츠 S24 네이비', '솔리드 옥스포드 오버셔츠(스카이블루)', '베이식 옥스포드 셔츠 [화이트]', 'Wooltan Check Shirts (Cream)'])\n"
          ]
        },
        {
          "output_type": "stream",
          "name": "stderr",
          "text": [
            "100%|██████████| 158/158 [03:48<00:00,  1.44s/it]\n"
          ]
        },
        {
          "output_type": "stream",
          "name": "stdout",
          "text": [
            "dict_keys(['플러프 무드 체크 셔츠 S24 네이비', '솔리드 옥스포드 오버셔츠(스카이블루)', '베이식 옥스포드 셔츠 [화이트]', 'Wooltan Check Shirts (Cream)', '빈티지 블랙 도트 스트라이프 셔츠 S22'])\n"
          ]
        },
        {
          "output_type": "stream",
          "name": "stderr",
          "text": [
            "100%|██████████| 250/250 [06:05<00:00,  1.46s/it]\n"
          ]
        },
        {
          "output_type": "stream",
          "name": "stdout",
          "text": [
            "dict_keys(['플러프 무드 체크 셔츠 S24 네이비', '솔리드 옥스포드 오버셔츠(스카이블루)', '베이식 옥스포드 셔츠 [화이트]', 'Wooltan Check Shirts (Cream)', '빈티지 블랙 도트 스트라이프 셔츠 S22', '솔리드 옥스포드 오버셔츠(화이트)'])\n"
          ]
        },
        {
          "output_type": "stream",
          "name": "stderr",
          "text": [
            "100%|██████████| 88/88 [02:08<00:00,  1.46s/it]\n"
          ]
        },
        {
          "output_type": "stream",
          "name": "stdout",
          "text": [
            "dict_keys(['플러프 무드 체크 셔츠 S24 네이비', '솔리드 옥스포드 오버셔츠(스카이블루)', '베이식 옥스포드 셔츠 [화이트]', 'Wooltan Check Shirts (Cream)', '빈티지 블랙 도트 스트라이프 셔츠 S22', '솔리드 옥스포드 오버셔츠(화이트)', '릴렉스 핏 옥스포드 셔츠 [화이트]'])\n"
          ]
        },
        {
          "output_type": "stream",
          "name": "stderr",
          "text": [
            "100%|██████████| 196/196 [04:47<00:00,  1.47s/it]\n"
          ]
        },
        {
          "output_type": "stream",
          "name": "stdout",
          "text": [
            "dict_keys(['플러프 무드 체크 셔츠 S24 네이비', '솔리드 옥스포드 오버셔츠(스카이블루)', '베이식 옥스포드 셔츠 [화이트]', 'Wooltan Check Shirts (Cream)', '빈티지 블랙 도트 스트라이프 셔츠 S22', '솔리드 옥스포드 오버셔츠(화이트)', '릴렉스 핏 옥스포드 셔츠 [화이트]', '루즈핏 오픈카라 텐셀 린넨 셔츠 [네이비]'])\n"
          ]
        },
        {
          "output_type": "stream",
          "name": "stderr",
          "text": [
            "100%|██████████| 191/191 [04:39<00:00,  1.46s/it]\n"
          ]
        },
        {
          "output_type": "stream",
          "name": "stdout",
          "text": [
            "dict_keys(['플러프 무드 체크 셔츠 S24 네이비', '솔리드 옥스포드 오버셔츠(스카이블루)', '베이식 옥스포드 셔츠 [화이트]', 'Wooltan Check Shirts (Cream)', '빈티지 블랙 도트 스트라이프 셔츠 S22', '솔리드 옥스포드 오버셔츠(화이트)', '릴렉스 핏 옥스포드 셔츠 [화이트]', '루즈핏 오픈카라 텐셀 린넨 셔츠 [네이비]', '시티보이 빅오버 옥스포드 반팔 셔츠_Sky Blue'])\n"
          ]
        },
        {
          "output_type": "stream",
          "name": "stderr",
          "text": [
            "100%|██████████| 167/167 [03:57<00:00,  1.43s/it]\n"
          ]
        },
        {
          "output_type": "stream",
          "name": "stdout",
          "text": [
            "dict_keys(['플러프 무드 체크 셔츠 S24 네이비', '솔리드 옥스포드 오버셔츠(스카이블루)', '베이식 옥스포드 셔츠 [화이트]', 'Wooltan Check Shirts (Cream)', '빈티지 블랙 도트 스트라이프 셔츠 S22', '솔리드 옥스포드 오버셔츠(화이트)', '릴렉스 핏 옥스포드 셔츠 [화이트]', '루즈핏 오픈카라 텐셀 린넨 셔츠 [네이비]', '시티보이 빅오버 옥스포드 반팔 셔츠_Sky Blue', 'Hair Line Stripe Shirts Sky'])\n"
          ]
        },
        {
          "output_type": "stream",
          "name": "stderr",
          "text": [
            "100%|██████████| 153/153 [03:44<00:00,  1.47s/it]\n"
          ]
        },
        {
          "output_type": "stream",
          "name": "stdout",
          "text": [
            "dict_keys(['플러프 무드 체크 셔츠 S24 네이비', '솔리드 옥스포드 오버셔츠(스카이블루)', '베이식 옥스포드 셔츠 [화이트]', 'Wooltan Check Shirts (Cream)', '빈티지 블랙 도트 스트라이프 셔츠 S22', '솔리드 옥스포드 오버셔츠(화이트)', '릴렉스 핏 옥스포드 셔츠 [화이트]', '루즈핏 오픈카라 텐셀 린넨 셔츠 [네이비]', '시티보이 빅오버 옥스포드 반팔 셔츠_Sky Blue', 'Hair Line Stripe Shirts Sky', '릴렉스 핏 실키 셔츠 [화이트]'])\n"
          ]
        },
        {
          "output_type": "stream",
          "name": "stderr",
          "text": [
            "100%|██████████| 51/51 [01:14<00:00,  1.46s/it]\n"
          ]
        },
        {
          "output_type": "stream",
          "name": "stdout",
          "text": [
            "dict_keys(['플러프 무드 체크 셔츠 S24 네이비', '솔리드 옥스포드 오버셔츠(스카이블루)', '베이식 옥스포드 셔츠 [화이트]', 'Wooltan Check Shirts (Cream)', '빈티지 블랙 도트 스트라이프 셔츠 S22', '솔리드 옥스포드 오버셔츠(화이트)', '릴렉스 핏 옥스포드 셔츠 [화이트]', '루즈핏 오픈카라 텐셀 린넨 셔츠 [네이비]', '시티보이 빅오버 옥스포드 반팔 셔츠_Sky Blue', 'Hair Line Stripe Shirts Sky', '릴렉스 핏 실키 셔츠 [화이트]', '오버핏 옥스포드 셔츠_SPYWC12C02'])\n"
          ]
        },
        {
          "output_type": "stream",
          "name": "stderr",
          "text": [
            "100%|██████████| 196/196 [04:47<00:00,  1.46s/it]\n"
          ]
        },
        {
          "output_type": "stream",
          "name": "stdout",
          "text": [
            "dict_keys(['플러프 무드 체크 셔츠 S24 네이비', '솔리드 옥스포드 오버셔츠(스카이블루)', '베이식 옥스포드 셔츠 [화이트]', 'Wooltan Check Shirts (Cream)', '빈티지 블랙 도트 스트라이프 셔츠 S22', '솔리드 옥스포드 오버셔츠(화이트)', '릴렉스 핏 옥스포드 셔츠 [화이트]', '루즈핏 오픈카라 텐셀 린넨 셔츠 [네이비]', '시티보이 빅오버 옥스포드 반팔 셔츠_Sky Blue', 'Hair Line Stripe Shirts Sky', '릴렉스 핏 실키 셔츠 [화이트]', '오버핏 옥스포드 셔츠_SPYWC12C02', '루즈핏 오픈카라 텐셀 린넨 셔츠 [오트밀]'])\n"
          ]
        },
        {
          "output_type": "stream",
          "name": "stderr",
          "text": [
            "100%|██████████| 49/49 [01:10<00:00,  1.43s/it]\n"
          ]
        },
        {
          "output_type": "stream",
          "name": "stdout",
          "text": [
            "dict_keys(['플러프 무드 체크 셔츠 S24 네이비', '솔리드 옥스포드 오버셔츠(스카이블루)', '베이식 옥스포드 셔츠 [화이트]', 'Wooltan Check Shirts (Cream)', '빈티지 블랙 도트 스트라이프 셔츠 S22', '솔리드 옥스포드 오버셔츠(화이트)', '릴렉스 핏 옥스포드 셔츠 [화이트]', '루즈핏 오픈카라 텐셀 린넨 셔츠 [네이비]', '시티보이 빅오버 옥스포드 반팔 셔츠_Sky Blue', 'Hair Line Stripe Shirts Sky', '릴렉스 핏 실키 셔츠 [화이트]', '오버핏 옥스포드 셔츠_SPYWC12C02', '루즈핏 오픈카라 텐셀 린넨 셔츠 [오트밀]', '클래식 화이트 셔츠 S40'])\n"
          ]
        },
        {
          "output_type": "stream",
          "name": "stderr",
          "text": [
            "100%|██████████| 153/153 [03:43<00:00,  1.46s/it]\n"
          ]
        },
        {
          "output_type": "stream",
          "name": "stdout",
          "text": [
            "dict_keys(['플러프 무드 체크 셔츠 S24 네이비', '솔리드 옥스포드 오버셔츠(스카이블루)', '베이식 옥스포드 셔츠 [화이트]', 'Wooltan Check Shirts (Cream)', '빈티지 블랙 도트 스트라이프 셔츠 S22', '솔리드 옥스포드 오버셔츠(화이트)', '릴렉스 핏 옥스포드 셔츠 [화이트]', '루즈핏 오픈카라 텐셀 린넨 셔츠 [네이비]', '시티보이 빅오버 옥스포드 반팔 셔츠_Sky Blue', 'Hair Line Stripe Shirts Sky', '릴렉스 핏 실키 셔츠 [화이트]', '오버핏 옥스포드 셔츠_SPYWC12C02', '루즈핏 오픈카라 텐셀 린넨 셔츠 [오트밀]', '클래식 화이트 셔츠 S40', '릴렉스 핏 실키 셔츠 [블랙]'])\n"
          ]
        },
        {
          "output_type": "stream",
          "name": "stderr",
          "text": [
            "100%|██████████| 153/153 [03:41<00:00,  1.45s/it]\n"
          ]
        },
        {
          "output_type": "stream",
          "name": "stdout",
          "text": [
            "dict_keys(['플러프 무드 체크 셔츠 S24 네이비', '솔리드 옥스포드 오버셔츠(스카이블루)', '베이식 옥스포드 셔츠 [화이트]', 'Wooltan Check Shirts (Cream)', '빈티지 블랙 도트 스트라이프 셔츠 S22', '솔리드 옥스포드 오버셔츠(화이트)', '릴렉스 핏 옥스포드 셔츠 [화이트]', '루즈핏 오픈카라 텐셀 린넨 셔츠 [네이비]', '시티보이 빅오버 옥스포드 반팔 셔츠_Sky Blue', 'Hair Line Stripe Shirts Sky', '릴렉스 핏 실키 셔츠 [화이트]', '오버핏 옥스포드 셔츠_SPYWC12C02', '루즈핏 오픈카라 텐셀 린넨 셔츠 [오트밀]', '클래식 화이트 셔츠 S40', '릴렉스 핏 실키 셔츠 [블랙]', '릴렉스 핏 실키 셔츠 [다크 네이비]'])\n"
          ]
        },
        {
          "output_type": "stream",
          "name": "stderr",
          "text": [
            "100%|██████████| 153/153 [03:42<00:00,  1.45s/it]\n"
          ]
        },
        {
          "output_type": "stream",
          "name": "stdout",
          "text": [
            "dict_keys(['플러프 무드 체크 셔츠 S24 네이비', '솔리드 옥스포드 오버셔츠(스카이블루)', '베이식 옥스포드 셔츠 [화이트]', 'Wooltan Check Shirts (Cream)', '빈티지 블랙 도트 스트라이프 셔츠 S22', '솔리드 옥스포드 오버셔츠(화이트)', '릴렉스 핏 옥스포드 셔츠 [화이트]', '루즈핏 오픈카라 텐셀 린넨 셔츠 [네이비]', '시티보이 빅오버 옥스포드 반팔 셔츠_Sky Blue', 'Hair Line Stripe Shirts Sky', '릴렉스 핏 실키 셔츠 [화이트]', '오버핏 옥스포드 셔츠_SPYWC12C02', '루즈핏 오픈카라 텐셀 린넨 셔츠 [오트밀]', '클래식 화이트 셔츠 S40', '릴렉스 핏 실키 셔츠 [블랙]', '릴렉스 핏 실키 셔츠 [다크 네이비]', '릴렉스 핏 실키 셔츠 [그레이쉬 블루]'])\n"
          ]
        },
        {
          "output_type": "stream",
          "name": "stderr",
          "text": [
            "100%|██████████| 23/23 [00:33<00:00,  1.46s/it]\n"
          ]
        },
        {
          "output_type": "stream",
          "name": "stdout",
          "text": [
            "dict_keys(['플러프 무드 체크 셔츠 S24 네이비', '솔리드 옥스포드 오버셔츠(스카이블루)', '베이식 옥스포드 셔츠 [화이트]', 'Wooltan Check Shirts (Cream)', '빈티지 블랙 도트 스트라이프 셔츠 S22', '솔리드 옥스포드 오버셔츠(화이트)', '릴렉스 핏 옥스포드 셔츠 [화이트]', '루즈핏 오픈카라 텐셀 린넨 셔츠 [네이비]', '시티보이 빅오버 옥스포드 반팔 셔츠_Sky Blue', 'Hair Line Stripe Shirts Sky', '릴렉스 핏 실키 셔츠 [화이트]', '오버핏 옥스포드 셔츠_SPYWC12C02', '루즈핏 오픈카라 텐셀 린넨 셔츠 [오트밀]', '클래식 화이트 셔츠 S40', '릴렉스 핏 실키 셔츠 [블랙]', '릴렉스 핏 실키 셔츠 [다크 네이비]', '릴렉스 핏 실키 셔츠 [그레이쉬 블루]', '[리뉴얼] 옵티멀 베이직 린넨 셔츠-화이트'])\n"
          ]
        },
        {
          "output_type": "stream",
          "name": "stderr",
          "text": [
            "100%|██████████| 242/242 [05:51<00:00,  1.45s/it]\n"
          ]
        },
        {
          "output_type": "stream",
          "name": "stdout",
          "text": [
            "dict_keys(['플러프 무드 체크 셔츠 S24 네이비', '솔리드 옥스포드 오버셔츠(스카이블루)', '베이식 옥스포드 셔츠 [화이트]', 'Wooltan Check Shirts (Cream)', '빈티지 블랙 도트 스트라이프 셔츠 S22', '솔리드 옥스포드 오버셔츠(화이트)', '릴렉스 핏 옥스포드 셔츠 [화이트]', '루즈핏 오픈카라 텐셀 린넨 셔츠 [네이비]', '시티보이 빅오버 옥스포드 반팔 셔츠_Sky Blue', 'Hair Line Stripe Shirts Sky', '릴렉스 핏 실키 셔츠 [화이트]', '오버핏 옥스포드 셔츠_SPYWC12C02', '루즈핏 오픈카라 텐셀 린넨 셔츠 [오트밀]', '클래식 화이트 셔츠 S40', '릴렉스 핏 실키 셔츠 [블랙]', '릴렉스 핏 실키 셔츠 [다크 네이비]', '릴렉스 핏 실키 셔츠 [그레이쉬 블루]', '[리뉴얼] 옵티멀 베이직 린넨 셔츠-화이트', '플러프 무드 체크 셔츠 S24 브라운'])\n"
          ]
        },
        {
          "output_type": "stream",
          "name": "stderr",
          "text": [
            "100%|██████████| 153/153 [03:42<00:00,  1.45s/it]\n"
          ]
        },
        {
          "output_type": "stream",
          "name": "stdout",
          "text": [
            "dict_keys(['플러프 무드 체크 셔츠 S24 네이비', '솔리드 옥스포드 오버셔츠(스카이블루)', '베이식 옥스포드 셔츠 [화이트]', 'Wooltan Check Shirts (Cream)', '빈티지 블랙 도트 스트라이프 셔츠 S22', '솔리드 옥스포드 오버셔츠(화이트)', '릴렉스 핏 옥스포드 셔츠 [화이트]', '루즈핏 오픈카라 텐셀 린넨 셔츠 [네이비]', '시티보이 빅오버 옥스포드 반팔 셔츠_Sky Blue', 'Hair Line Stripe Shirts Sky', '릴렉스 핏 실키 셔츠 [화이트]', '오버핏 옥스포드 셔츠_SPYWC12C02', '루즈핏 오픈카라 텐셀 린넨 셔츠 [오트밀]', '클래식 화이트 셔츠 S40', '릴렉스 핏 실키 셔츠 [블랙]', '릴렉스 핏 실키 셔츠 [다크 네이비]', '릴렉스 핏 실키 셔츠 [그레이쉬 블루]', '[리뉴얼] 옵티멀 베이직 린넨 셔츠-화이트', '플러프 무드 체크 셔츠 S24 브라운', '[유아인 착용 상품] 릴렉스 핏 실키 셔츠 [카키]'])\n"
          ]
        },
        {
          "output_type": "stream",
          "name": "stderr",
          "text": [
            "100%|██████████| 160/160 [03:49<00:00,  1.44s/it]\n"
          ]
        },
        {
          "output_type": "stream",
          "name": "stdout",
          "text": [
            "dict_keys(['플러프 무드 체크 셔츠 S24 네이비', '솔리드 옥스포드 오버셔츠(스카이블루)', '베이식 옥스포드 셔츠 [화이트]', 'Wooltan Check Shirts (Cream)', '빈티지 블랙 도트 스트라이프 셔츠 S22', '솔리드 옥스포드 오버셔츠(화이트)', '릴렉스 핏 옥스포드 셔츠 [화이트]', '루즈핏 오픈카라 텐셀 린넨 셔츠 [네이비]', '시티보이 빅오버 옥스포드 반팔 셔츠_Sky Blue', 'Hair Line Stripe Shirts Sky', '릴렉스 핏 실키 셔츠 [화이트]', '오버핏 옥스포드 셔츠_SPYWC12C02', '루즈핏 오픈카라 텐셀 린넨 셔츠 [오트밀]', '클래식 화이트 셔츠 S40', '릴렉스 핏 실키 셔츠 [블랙]', '릴렉스 핏 실키 셔츠 [다크 네이비]', '릴렉스 핏 실키 셔츠 [그레이쉬 블루]', '[리뉴얼] 옵티멀 베이직 린넨 셔츠-화이트', '플러프 무드 체크 셔츠 S24 브라운', '[유아인 착용 상품] 릴렉스 핏 실키 셔츠 [카키]', '피그먼트 루즈핏 셔츠 베이지 SMLS4058'])\n"
          ]
        },
        {
          "output_type": "stream",
          "name": "stderr",
          "text": [
            "100%|██████████| 196/196 [04:45<00:00,  1.46s/it]\n"
          ]
        },
        {
          "output_type": "stream",
          "name": "stdout",
          "text": [
            "dict_keys(['플러프 무드 체크 셔츠 S24 네이비', '솔리드 옥스포드 오버셔츠(스카이블루)', '베이식 옥스포드 셔츠 [화이트]', 'Wooltan Check Shirts (Cream)', '빈티지 블랙 도트 스트라이프 셔츠 S22', '솔리드 옥스포드 오버셔츠(화이트)', '릴렉스 핏 옥스포드 셔츠 [화이트]', '루즈핏 오픈카라 텐셀 린넨 셔츠 [네이비]', '시티보이 빅오버 옥스포드 반팔 셔츠_Sky Blue', 'Hair Line Stripe Shirts Sky', '릴렉스 핏 실키 셔츠 [화이트]', '오버핏 옥스포드 셔츠_SPYWC12C02', '루즈핏 오픈카라 텐셀 린넨 셔츠 [오트밀]', '클래식 화이트 셔츠 S40', '릴렉스 핏 실키 셔츠 [블랙]', '릴렉스 핏 실키 셔츠 [다크 네이비]', '릴렉스 핏 실키 셔츠 [그레이쉬 블루]', '[리뉴얼] 옵티멀 베이직 린넨 셔츠-화이트', '플러프 무드 체크 셔츠 S24 브라운', '[유아인 착용 상품] 릴렉스 핏 실키 셔츠 [카키]', '피그먼트 루즈핏 셔츠 베이지 SMLS4058', '루즈핏 오픈카라 텐셀 린넨 셔츠 [블랙]'])\n"
          ]
        },
        {
          "output_type": "stream",
          "name": "stderr",
          "text": [
            "100%|██████████| 52/52 [01:15<00:00,  1.46s/it]\n"
          ]
        },
        {
          "output_type": "stream",
          "name": "stdout",
          "text": [
            "dict_keys(['플러프 무드 체크 셔츠 S24 네이비', '솔리드 옥스포드 오버셔츠(스카이블루)', '베이식 옥스포드 셔츠 [화이트]', 'Wooltan Check Shirts (Cream)', '빈티지 블랙 도트 스트라이프 셔츠 S22', '솔리드 옥스포드 오버셔츠(화이트)', '릴렉스 핏 옥스포드 셔츠 [화이트]', '루즈핏 오픈카라 텐셀 린넨 셔츠 [네이비]', '시티보이 빅오버 옥스포드 반팔 셔츠_Sky Blue', 'Hair Line Stripe Shirts Sky', '릴렉스 핏 실키 셔츠 [화이트]', '오버핏 옥스포드 셔츠_SPYWC12C02', '루즈핏 오픈카라 텐셀 린넨 셔츠 [오트밀]', '클래식 화이트 셔츠 S40', '릴렉스 핏 실키 셔츠 [블랙]', '릴렉스 핏 실키 셔츠 [다크 네이비]', '릴렉스 핏 실키 셔츠 [그레이쉬 블루]', '[리뉴얼] 옵티멀 베이직 린넨 셔츠-화이트', '플러프 무드 체크 셔츠 S24 브라운', '[유아인 착용 상품] 릴렉스 핏 실키 셔츠 [카키]', '피그먼트 루즈핏 셔츠 베이지 SMLS4058', '루즈핏 오픈카라 텐셀 린넨 셔츠 [블랙]', 'STRIPE HANDSOME DAN SHIRT BLUE'])\n"
          ]
        },
        {
          "output_type": "stream",
          "name": "stderr",
          "text": [
            "100%|██████████| 28/28 [00:39<00:00,  1.43s/it]\n"
          ]
        },
        {
          "output_type": "stream",
          "name": "stdout",
          "text": [
            "dict_keys(['플러프 무드 체크 셔츠 S24 네이비', '솔리드 옥스포드 오버셔츠(스카이블루)', '베이식 옥스포드 셔츠 [화이트]', 'Wooltan Check Shirts (Cream)', '빈티지 블랙 도트 스트라이프 셔츠 S22', '솔리드 옥스포드 오버셔츠(화이트)', '릴렉스 핏 옥스포드 셔츠 [화이트]', '루즈핏 오픈카라 텐셀 린넨 셔츠 [네이비]', '시티보이 빅오버 옥스포드 반팔 셔츠_Sky Blue', 'Hair Line Stripe Shirts Sky', '릴렉스 핏 실키 셔츠 [화이트]', '오버핏 옥스포드 셔츠_SPYWC12C02', '루즈핏 오픈카라 텐셀 린넨 셔츠 [오트밀]', '클래식 화이트 셔츠 S40', '릴렉스 핏 실키 셔츠 [블랙]', '릴렉스 핏 실키 셔츠 [다크 네이비]', '릴렉스 핏 실키 셔츠 [그레이쉬 블루]', '[리뉴얼] 옵티멀 베이직 린넨 셔츠-화이트', '플러프 무드 체크 셔츠 S24 브라운', '[유아인 착용 상품] 릴렉스 핏 실키 셔츠 [카키]', '피그먼트 루즈핏 셔츠 베이지 SMLS4058', '루즈핏 오픈카라 텐셀 린넨 셔츠 [블랙]', 'STRIPE HANDSOME DAN SHIRT BLUE', '헤링본 클래식 체크 셔츠 S41'])\n"
          ]
        },
        {
          "output_type": "stream",
          "name": "stderr",
          "text": [
            "100%|██████████| 191/191 [04:38<00:00,  1.46s/it]\n"
          ]
        },
        {
          "output_type": "stream",
          "name": "stdout",
          "text": [
            "dict_keys(['플러프 무드 체크 셔츠 S24 네이비', '솔리드 옥스포드 오버셔츠(스카이블루)', '베이식 옥스포드 셔츠 [화이트]', 'Wooltan Check Shirts (Cream)', '빈티지 블랙 도트 스트라이프 셔츠 S22', '솔리드 옥스포드 오버셔츠(화이트)', '릴렉스 핏 옥스포드 셔츠 [화이트]', '루즈핏 오픈카라 텐셀 린넨 셔츠 [네이비]', '시티보이 빅오버 옥스포드 반팔 셔츠_Sky Blue', 'Hair Line Stripe Shirts Sky', '릴렉스 핏 실키 셔츠 [화이트]', '오버핏 옥스포드 셔츠_SPYWC12C02', '루즈핏 오픈카라 텐셀 린넨 셔츠 [오트밀]', '클래식 화이트 셔츠 S40', '릴렉스 핏 실키 셔츠 [블랙]', '릴렉스 핏 실키 셔츠 [다크 네이비]', '릴렉스 핏 실키 셔츠 [그레이쉬 블루]', '[리뉴얼] 옵티멀 베이직 린넨 셔츠-화이트', '플러프 무드 체크 셔츠 S24 브라운', '[유아인 착용 상품] 릴렉스 핏 실키 셔츠 [카키]', '피그먼트 루즈핏 셔츠 베이지 SMLS4058', '루즈핏 오픈카라 텐셀 린넨 셔츠 [블랙]', 'STRIPE HANDSOME DAN SHIRT BLUE', '헤링본 클래식 체크 셔츠 S41', '시티보이 빅오버 옥스포드 반팔 셔츠_White'])\n"
          ]
        },
        {
          "output_type": "stream",
          "name": "stderr",
          "text": [
            "100%|██████████| 34/34 [00:49<00:00,  1.45s/it]\n"
          ]
        },
        {
          "output_type": "stream",
          "name": "stdout",
          "text": [
            "dict_keys(['플러프 무드 체크 셔츠 S24 네이비', '솔리드 옥스포드 오버셔츠(스카이블루)', '베이식 옥스포드 셔츠 [화이트]', 'Wooltan Check Shirts (Cream)', '빈티지 블랙 도트 스트라이프 셔츠 S22', '솔리드 옥스포드 오버셔츠(화이트)', '릴렉스 핏 옥스포드 셔츠 [화이트]', '루즈핏 오픈카라 텐셀 린넨 셔츠 [네이비]', '시티보이 빅오버 옥스포드 반팔 셔츠_Sky Blue', 'Hair Line Stripe Shirts Sky', '릴렉스 핏 실키 셔츠 [화이트]', '오버핏 옥스포드 셔츠_SPYWC12C02', '루즈핏 오픈카라 텐셀 린넨 셔츠 [오트밀]', '클래식 화이트 셔츠 S40', '릴렉스 핏 실키 셔츠 [블랙]', '릴렉스 핏 실키 셔츠 [다크 네이비]', '릴렉스 핏 실키 셔츠 [그레이쉬 블루]', '[리뉴얼] 옵티멀 베이직 린넨 셔츠-화이트', '플러프 무드 체크 셔츠 S24 브라운', '[유아인 착용 상품] 릴렉스 핏 실키 셔츠 [카키]', '피그먼트 루즈핏 셔츠 베이지 SMLS4058', '루즈핏 오픈카라 텐셀 린넨 셔츠 [블랙]', 'STRIPE HANDSOME DAN SHIRT BLUE', '헤링본 클래식 체크 셔츠 S41', '시티보이 빅오버 옥스포드 반팔 셔츠_White', '[리뉴얼] 오버핏 글림 스트라이프 셔츠-네이비'])\n"
          ]
        },
        {
          "output_type": "stream",
          "name": "stderr",
          "text": [
            "100%|██████████| 33/33 [00:46<00:00,  1.42s/it]\n"
          ]
        },
        {
          "output_type": "stream",
          "name": "stdout",
          "text": [
            "dict_keys(['플러프 무드 체크 셔츠 S24 네이비', '솔리드 옥스포드 오버셔츠(스카이블루)', '베이식 옥스포드 셔츠 [화이트]', 'Wooltan Check Shirts (Cream)', '빈티지 블랙 도트 스트라이프 셔츠 S22', '솔리드 옥스포드 오버셔츠(화이트)', '릴렉스 핏 옥스포드 셔츠 [화이트]', '루즈핏 오픈카라 텐셀 린넨 셔츠 [네이비]', '시티보이 빅오버 옥스포드 반팔 셔츠_Sky Blue', 'Hair Line Stripe Shirts Sky', '릴렉스 핏 실키 셔츠 [화이트]', '오버핏 옥스포드 셔츠_SPYWC12C02', '루즈핏 오픈카라 텐셀 린넨 셔츠 [오트밀]', '클래식 화이트 셔츠 S40', '릴렉스 핏 실키 셔츠 [블랙]', '릴렉스 핏 실키 셔츠 [다크 네이비]', '릴렉스 핏 실키 셔츠 [그레이쉬 블루]', '[리뉴얼] 옵티멀 베이직 린넨 셔츠-화이트', '플러프 무드 체크 셔츠 S24 브라운', '[유아인 착용 상품] 릴렉스 핏 실키 셔츠 [카키]', '피그먼트 루즈핏 셔츠 베이지 SMLS4058', '루즈핏 오픈카라 텐셀 린넨 셔츠 [블랙]', 'STRIPE HANDSOME DAN SHIRT BLUE', '헤링본 클래식 체크 셔츠 S41', '시티보이 빅오버 옥스포드 반팔 셔츠_White', '[리뉴얼] 오버핏 글림 스트라이프 셔츠-네이비', '옥스포드 베이직 셔츠 화이트'])\n"
          ]
        },
        {
          "output_type": "stream",
          "name": "stderr",
          "text": [
            "100%|██████████| 19/19 [00:26<00:00,  1.41s/it]\n"
          ]
        },
        {
          "output_type": "stream",
          "name": "stdout",
          "text": [
            "dict_keys(['플러프 무드 체크 셔츠 S24 네이비', '솔리드 옥스포드 오버셔츠(스카이블루)', '베이식 옥스포드 셔츠 [화이트]', 'Wooltan Check Shirts (Cream)', '빈티지 블랙 도트 스트라이프 셔츠 S22', '솔리드 옥스포드 오버셔츠(화이트)', '릴렉스 핏 옥스포드 셔츠 [화이트]', '루즈핏 오픈카라 텐셀 린넨 셔츠 [네이비]', '시티보이 빅오버 옥스포드 반팔 셔츠_Sky Blue', 'Hair Line Stripe Shirts Sky', '릴렉스 핏 실키 셔츠 [화이트]', '오버핏 옥스포드 셔츠_SPYWC12C02', '루즈핏 오픈카라 텐셀 린넨 셔츠 [오트밀]', '클래식 화이트 셔츠 S40', '릴렉스 핏 실키 셔츠 [블랙]', '릴렉스 핏 실키 셔츠 [다크 네이비]', '릴렉스 핏 실키 셔츠 [그레이쉬 블루]', '[리뉴얼] 옵티멀 베이직 린넨 셔츠-화이트', '플러프 무드 체크 셔츠 S24 브라운', '[유아인 착용 상품] 릴렉스 핏 실키 셔츠 [카키]', '피그먼트 루즈핏 셔츠 베이지 SMLS4058', '루즈핏 오픈카라 텐셀 린넨 셔츠 [블랙]', 'STRIPE HANDSOME DAN SHIRT BLUE', '헤링본 클래식 체크 셔츠 S41', '시티보이 빅오버 옥스포드 반팔 셔츠_White', '[리뉴얼] 오버핏 글림 스트라이프 셔츠-네이비', '옥스포드 베이직 셔츠 화이트', '스티브 보이핏 오버셔츠 WHYAC2225U'])\n"
          ]
        },
        {
          "output_type": "stream",
          "name": "stderr",
          "text": [
            "100%|██████████| 88/88 [02:08<00:00,  1.46s/it]\n"
          ]
        },
        {
          "output_type": "stream",
          "name": "stdout",
          "text": [
            "dict_keys(['플러프 무드 체크 셔츠 S24 네이비', '솔리드 옥스포드 오버셔츠(스카이블루)', '베이식 옥스포드 셔츠 [화이트]', 'Wooltan Check Shirts (Cream)', '빈티지 블랙 도트 스트라이프 셔츠 S22', '솔리드 옥스포드 오버셔츠(화이트)', '릴렉스 핏 옥스포드 셔츠 [화이트]', '루즈핏 오픈카라 텐셀 린넨 셔츠 [네이비]', '시티보이 빅오버 옥스포드 반팔 셔츠_Sky Blue', 'Hair Line Stripe Shirts Sky', '릴렉스 핏 실키 셔츠 [화이트]', '오버핏 옥스포드 셔츠_SPYWC12C02', '루즈핏 오픈카라 텐셀 린넨 셔츠 [오트밀]', '클래식 화이트 셔츠 S40', '릴렉스 핏 실키 셔츠 [블랙]', '릴렉스 핏 실키 셔츠 [다크 네이비]', '릴렉스 핏 실키 셔츠 [그레이쉬 블루]', '[리뉴얼] 옵티멀 베이직 린넨 셔츠-화이트', '플러프 무드 체크 셔츠 S24 브라운', '[유아인 착용 상품] 릴렉스 핏 실키 셔츠 [카키]', '피그먼트 루즈핏 셔츠 베이지 SMLS4058', '루즈핏 오픈카라 텐셀 린넨 셔츠 [블랙]', 'STRIPE HANDSOME DAN SHIRT BLUE', '헤링본 클래식 체크 셔츠 S41', '시티보이 빅오버 옥스포드 반팔 셔츠_White', '[리뉴얼] 오버핏 글림 스트라이프 셔츠-네이비', '옥스포드 베이직 셔츠 화이트', '스티브 보이핏 오버셔츠 WHYAC2225U', '릴렉스 핏 옥스포드 셔츠 [블루]'])\n"
          ]
        },
        {
          "output_type": "stream",
          "name": "stderr",
          "text": [
            "100%|██████████| 48/48 [01:08<00:00,  1.43s/it]"
          ]
        },
        {
          "output_type": "stream",
          "name": "stdout",
          "text": [
            "dict_keys(['플러프 무드 체크 셔츠 S24 네이비', '솔리드 옥스포드 오버셔츠(스카이블루)', '베이식 옥스포드 셔츠 [화이트]', 'Wooltan Check Shirts (Cream)', '빈티지 블랙 도트 스트라이프 셔츠 S22', '솔리드 옥스포드 오버셔츠(화이트)', '릴렉스 핏 옥스포드 셔츠 [화이트]', '루즈핏 오픈카라 텐셀 린넨 셔츠 [네이비]', '시티보이 빅오버 옥스포드 반팔 셔츠_Sky Blue', 'Hair Line Stripe Shirts Sky', '릴렉스 핏 실키 셔츠 [화이트]', '오버핏 옥스포드 셔츠_SPYWC12C02', '루즈핏 오픈카라 텐셀 린넨 셔츠 [오트밀]', '클래식 화이트 셔츠 S40', '릴렉스 핏 실키 셔츠 [블랙]', '릴렉스 핏 실키 셔츠 [다크 네이비]', '릴렉스 핏 실키 셔츠 [그레이쉬 블루]', '[리뉴얼] 옵티멀 베이직 린넨 셔츠-화이트', '플러프 무드 체크 셔츠 S24 브라운', '[유아인 착용 상품] 릴렉스 핏 실키 셔츠 [카키]', '피그먼트 루즈핏 셔츠 베이지 SMLS4058', '루즈핏 오픈카라 텐셀 린넨 셔츠 [블랙]', 'STRIPE HANDSOME DAN SHIRT BLUE', '헤링본 클래식 체크 셔츠 S41', '시티보이 빅오버 옥스포드 반팔 셔츠_White', '[리뉴얼] 오버핏 글림 스트라이프 셔츠-네이비', '옥스포드 베이직 셔츠 화이트', '스티브 보이핏 오버셔츠 WHYAC2225U', '릴렉스 핏 옥스포드 셔츠 [블루]', '[컬러추가]PIN STRIPE OVER SHIRT'])\n"
          ]
        },
        {
          "output_type": "stream",
          "name": "stderr",
          "text": [
            "\n"
          ]
        }
      ],
      "source": [
        "df_dict = {}\n",
        "\n",
        "for i in range(len(urls)):\n",
        "    reviews = get_reviews(urls[i], max_num_lists[i])\n",
        "    df_dict[prod_name[i]] = pd.DataFrame({'prod_name': prod_name[i], 'review':reviews})\n",
        "    print(df_dict.keys())"
      ]
    },
    {
      "cell_type": "code",
      "source": [
        "len(df_dict)"
      ],
      "metadata": {
        "id": "DPhqWHWGoMZ_",
        "colab": {
          "base_uri": "https://localhost:8080/"
        },
        "outputId": "2b21c1a8-c8a8-4bd6-bb17-f27e15bfa4f0"
      },
      "execution_count": null,
      "outputs": [
        {
          "output_type": "execute_result",
          "data": {
            "text/plain": [
              "30"
            ]
          },
          "metadata": {},
          "execution_count": 21
        }
      ]
    },
    {
      "cell_type": "code",
      "source": [
        "prod_name"
      ],
      "metadata": {
        "id": "OmGjKMGro6kp",
        "colab": {
          "base_uri": "https://localhost:8080/"
        },
        "outputId": "865b0829-5c4a-45cd-9a52-b9a7e02dc4a8"
      },
      "execution_count": null,
      "outputs": [
        {
          "output_type": "execute_result",
          "data": {
            "text/plain": [
              "['플러프 무드 체크 셔츠 S24 네이비',\n",
              " '솔리드 옥스포드 오버셔츠(스카이블루)',\n",
              " '베이식 옥스포드 셔츠 [화이트]',\n",
              " 'Wooltan Check Shirts (Cream)',\n",
              " '빈티지 블랙 도트 스트라이프 셔츠 S22',\n",
              " '솔리드 옥스포드 오버셔츠(화이트)',\n",
              " '릴렉스 핏 옥스포드 셔츠 [화이트]',\n",
              " '루즈핏 오픈카라 텐셀 린넨 셔츠 [네이비]',\n",
              " '시티보이 빅오버 옥스포드 반팔 셔츠_Sky Blue',\n",
              " 'Hair Line Stripe Shirts Sky',\n",
              " '릴렉스 핏 실키 셔츠 [화이트]',\n",
              " '오버핏 옥스포드 셔츠_SPYWC12C02',\n",
              " '루즈핏 오픈카라 텐셀 린넨 셔츠 [오트밀]',\n",
              " '클래식 화이트 셔츠 S40',\n",
              " '릴렉스 핏 실키 셔츠 [블랙]',\n",
              " '릴렉스 핏 실키 셔츠 [다크 네이비]',\n",
              " '릴렉스 핏 실키 셔츠 [그레이쉬 블루]',\n",
              " '[리뉴얼] 옵티멀 베이직 린넨 셔츠-화이트',\n",
              " '플러프 무드 체크 셔츠 S24 브라운',\n",
              " '[유아인 착용 상품] 릴렉스 핏 실키 셔츠 [카키]',\n",
              " '피그먼트 루즈핏 셔츠 베이지 SMLS4058',\n",
              " '루즈핏 오픈카라 텐셀 린넨 셔츠 [블랙]',\n",
              " 'STRIPE HANDSOME DAN SHIRT BLUE',\n",
              " '헤링본 클래식 체크 셔츠 S41',\n",
              " '시티보이 빅오버 옥스포드 반팔 셔츠_White',\n",
              " '[리뉴얼] 오버핏 글림 스트라이프 셔츠-네이비',\n",
              " '옥스포드 베이직 셔츠 화이트',\n",
              " '스티브 보이핏 오버셔츠 WHYAC2225U',\n",
              " '릴렉스 핏 옥스포드 셔츠 [블루]',\n",
              " '[컬러추가]PIN STRIPE OVER SHIRT']"
            ]
          },
          "metadata": {},
          "execution_count": 22
        }
      ]
    },
    {
      "cell_type": "code",
      "source": [
        "# csv 파일로 저장\n",
        "for i in range(len(urls)):\n",
        "    df_dict[prod_name[i]].to_csv(f'/content/sample_data/df{prod_name[i]}.csv', index = False)"
      ],
      "metadata": {
        "id": "aIOQDLxpKd4g"
      },
      "execution_count": null,
      "outputs": []
    },
    {
      "cell_type": "code",
      "source": [
        "from google.colab import drive\n",
        "drive.mount('/content/drive')"
      ],
      "metadata": {
        "id": "SYut5HrBHuOR",
        "colab": {
          "base_uri": "https://localhost:8080/"
        },
        "outputId": "b5eda8e2-a4e3-4735-f8e4-05f2698b3eed"
      },
      "execution_count": null,
      "outputs": [
        {
          "output_type": "stream",
          "name": "stdout",
          "text": [
            "Mounted at /content/drive\n"
          ]
        }
      ]
    },
    {
      "cell_type": "code",
      "source": [
        "!cd '/content/sample_data'\n",
        "!pwd"
      ],
      "metadata": {
        "colab": {
          "base_uri": "https://localhost:8080/"
        },
        "id": "asDKvhW8cYo_",
        "outputId": "dba31a7b-4112-4061-b5e3-d46f59d38e3d"
      },
      "execution_count": null,
      "outputs": [
        {
          "output_type": "stream",
          "name": "stdout",
          "text": [
            "/content\n"
          ]
        }
      ]
    },
    {
      "cell_type": "code",
      "source": [
        "from glob import glob\n",
        "import os\n",
        "\n",
        "df_lists = glob('/content/sample_data/*.csv')[:-5]\n",
        "#files = [os.path.basename(li) for li in df_lists]\n",
        "df_lists\n",
        "\n",
        "file_dict = {}\n",
        "file_name = []\n",
        "for i in df_lists:\n",
        "    key = i[23:-4]\n",
        "    df = pd.read_csv(i)\n",
        "    file_dict[key] = df\n",
        "    file_name.append(key)"
      ],
      "metadata": {
        "id": "C_sM6tyjMmfn"
      },
      "execution_count": null,
      "outputs": []
    },
    {
      "cell_type": "code",
      "source": [
        "concats = []\n",
        "for i in range(len(file_name)):\n",
        "    concats.append(file_dict[file_name[i]])\n",
        "#print(concats)"
      ],
      "metadata": {
        "id": "PCToDQ3ftJZC"
      },
      "execution_count": null,
      "outputs": []
    },
    {
      "cell_type": "code",
      "source": [
        "dft = pd.concat(concats)\n",
        "print(dft.shape)"
      ],
      "metadata": {
        "colab": {
          "base_uri": "https://localhost:8080/"
        },
        "id": "_PjnEy0as_p5",
        "outputId": "32d2e7e9-017d-448f-8a55-ad5fe6c55f93"
      },
      "execution_count": null,
      "outputs": [
        {
          "output_type": "stream",
          "name": "stdout",
          "text": [
            "(40460, 2)\n"
          ]
        }
      ]
    },
    {
      "cell_type": "code",
      "source": [
        "import os\n",
        "os.makedirs('/content/drive/MyDrive/musinsa', exist_ok = True)\n",
        "os.getcwd()\n",
        "os.chdir('/content/drive/MyDrive')\n",
        "CUR_DIR = os.getcwd()\n",
        "\n",
        "dft.to_csv(os.path.join(CUR_DIR,'musinsa/musinsa_review.csv'))"
      ],
      "metadata": {
        "id": "6j6262D6I4Va"
      },
      "execution_count": null,
      "outputs": []
    },
    {
      "cell_type": "code",
      "source": [
        "prod_df.to_csv(os.path.join(CUR_DIR,'musinsa/prod_df.csv'))"
      ],
      "metadata": {
        "id": "CKQMZ1Nb4YzM"
      },
      "execution_count": null,
      "outputs": []
    },
    {
      "cell_type": "markdown",
      "metadata": {
        "id": "il6KKvQNjz1y"
      },
      "source": [
        "#### trouble shooting\n",
        "* pagination..........................!!\n",
        "    - 첫번째 seleium!\n",
        "    - max_page_num 추출을 위한 '.find_element'에서 많은 시간이 투입\n",
        "    - 아직까지 F12의 오른쪽 마우스키가 작동이 안되 스크래핑 하는게 모두 수동 작업\n",
        "    - 많은 에러를 경험했으니 좀 더 발전해있길...!!\n",
        "\n",
        "* [selenium official docs](https://selenium-python.readthedocs.io/locating-elements.html)\n",
        "* 셀레니움 사용시 특정 element의 클릭이 되지 않을때\n",
        "    - click() 함수를 사용하게 되면 간단하게 해당 element를 클릭할 수 있는데, 원인 미상으로 가끔씩 클릭이 되지 않는 상황\n",
        "    ```\n",
        "    from selenium.webdriver.common.keys import Keys\n",
        "    driver.find_element_by_id(\"TOTAL\").send_keys(Keys.ENTER)\n",
        "    ```\n",
        "    - 위의 방법을 통해도 클릭이 되지 않을 수 있는데, 아래와 같은 방법\n",
        "    ```\n",
        "    element = driver.find_element_by_id(\"TOTAL\")\n",
        "    driver.execute_script(\"arguments[0].click();\", element)\n",
        "    ```\n",
        "\n",
        "* 후드 티셔츠 데이터의 리뷰를 모두 추출하려고 했는데 생각보다 데이터 양이 많아서 시간이 너무 오래 걸림\n",
        "* 일단 목적은 크롤링이 아닌 리뷰 분석이므로 여기까지..!"
      ]
    }
  ],
  "metadata": {
    "colab": {
      "collapsed_sections": [
        "UBlF-DFlBcJe"
      ],
      "name": "[NLP]_musinsa_review_scraping.ipynb",
      "provenance": []
    },
    "kernelspec": {
      "display_name": "Python 3",
      "name": "python3"
    },
    "language_info": {
      "name": "python"
    }
  },
  "nbformat": 4,
  "nbformat_minor": 0
}